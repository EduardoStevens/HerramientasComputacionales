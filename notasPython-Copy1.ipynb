{
 "cells": [
  {
   "cell_type": "markdown",
   "metadata": {},
   "source": [
    "<font color=\"Teal\" face=\"Comic Sans MS,arial\">\n",
    "  <h1 align=\"center\"><i>Notas de python. </i></h1>\n",
    "  </font>\n",
    "  <font color=\"Black\" face=\"Comic Sans MS,arial\">\n",
    "  <h5 align=\"center\"><i>Profesor: M.en.C. Miguel Angel Pérez León.</i></h5>\n",
    "    <h5 align=\"center\"><i>Ayudante: Jesús Iván Coss Calderón.</i></h5>\n",
    "    <h5 align=\"center\"><i>Ayudante: M.en.C.Mario Arturo Nieto Butron.</i></h5>\n",
    "  <h5 align=\"center\"><i>Materia: Análisis Numérico.</i></h5>\n",
    "  </font>"
   ]
  },
  {
   "cell_type": "markdown",
   "metadata": {},
   "source": [
    "## Operadores aritméticos.\n",
    "\n",
    "En python se tienen las operaciones elementales del arimética, la suma, la multiplicación y división, las cuales podemos calcular de la siguiente manera.\n",
    "\n",
    "1. Suma :  $1+2= 3$"
   ]
  },
  {
   "cell_type": "code",
   "execution_count": 152,
   "metadata": {},
   "outputs": [
    {
     "data": {
      "text/plain": [
       "3"
      ]
     },
     "execution_count": 152,
     "metadata": {},
     "output_type": "execute_result"
    }
   ],
   "source": [
    "1+2"
   ]
  },
  {
   "cell_type": "markdown",
   "metadata": {},
   "source": [
    "2. Resta :  $1-2= -1$\n"
   ]
  },
  {
   "cell_type": "code",
   "execution_count": 153,
   "metadata": {},
   "outputs": [
    {
     "data": {
      "text/plain": [
       "-1"
      ]
     },
     "execution_count": 153,
     "metadata": {},
     "output_type": "execute_result"
    }
   ],
   "source": [
    "1-2"
   ]
  },
  {
   "cell_type": "markdown",
   "metadata": {},
   "source": [
    "3. Multiplicación:  $2*3=6$\n"
   ]
  },
  {
   "cell_type": "code",
   "execution_count": 154,
   "metadata": {},
   "outputs": [
    {
     "data": {
      "text/plain": [
       "6"
      ]
     },
     "execution_count": 154,
     "metadata": {},
     "output_type": "execute_result"
    }
   ],
   "source": [
    "2*3"
   ]
  },
  {
   "cell_type": "markdown",
   "metadata": {},
   "source": [
    "4. División: $2/3=0.6666666666666666$\n"
   ]
  },
  {
   "cell_type": "code",
   "execution_count": 155,
   "metadata": {},
   "outputs": [
    {
     "data": {
      "text/plain": [
       "0.6666666666666666"
      ]
     },
     "execution_count": 155,
     "metadata": {},
     "output_type": "execute_result"
    }
   ],
   "source": [
    "2/3"
   ]
  },
  {
   "cell_type": "markdown",
   "metadata": {},
   "source": [
    "5. Potencia: $2**3=8$"
   ]
  },
  {
   "cell_type": "code",
   "execution_count": 156,
   "metadata": {},
   "outputs": [
    {
     "data": {
      "text/plain": [
       "8"
      ]
     },
     "execution_count": 156,
     "metadata": {},
     "output_type": "execute_result"
    }
   ],
   "source": [
    "2**3"
   ]
  },
  {
   "cell_type": "markdown",
   "metadata": {},
   "source": [
    "## Tipos de datos.\n",
    "\n",
    "En los lenguajes de programación, se tiene de manera estándar cuatro tipos de variable: entero, flotante, caracter y boleano"
   ]
  },
  {
   "cell_type": "code",
   "execution_count": 38,
   "metadata": {},
   "outputs": [
    {
     "name": "stdout",
     "output_type": "stream",
     "text": [
      "el tipo de dato de 5 es <class 'int'>\n",
      "el tipo de dato de 5.000000 es  <class 'float'>\n",
      "el tipo de dato de 5 es <class 'str'>\n",
      "el tipo de dato de True es <class 'bool'>\n"
     ]
    }
   ],
   "source": [
    "entero=5\n",
    "print('el tipo de dato de %d es %s'%(entero,type(5)))\n",
    "flotante=5.0\n",
    "print('el tipo de dato de %f es  %s'%(flotante,type(5.0)))\n",
    "cadena=\"5\"\n",
    "print('el tipo de dato de %s es %s'%(cadena,type(\"5\")))\n",
    "boleano=True\n",
    "print(\"el tipo de dato de %r es %s\"%(boleano,type(True)))"
   ]
  },
  {
   "cell_type": "markdown",
   "metadata": {},
   "source": [
    "### Otro tipo "
   ]
  },
  {
   "cell_type": "markdown",
   "metadata": {},
   "source": [
    "Un dato muy usado es aquél que representa al número complejo, el cual se declara de la siguiente manera:"
   ]
  },
  {
   "cell_type": "code",
   "execution_count": 44,
   "metadata": {},
   "outputs": [
    {
     "data": {
      "text/plain": [
       "complex"
      ]
     },
     "execution_count": 44,
     "metadata": {},
     "output_type": "execute_result"
    }
   ],
   "source": [
    "complejo = 1.2 + 5.0j\n",
    "type(complejo)"
   ]
  },
  {
   "cell_type": "markdown",
   "metadata": {},
   "source": [
    "## Casteo de variables.\n",
    "\n",
    "En ocasiones cuando nos encontramos programando necesitamos realizar una pequeña transformación a la variables para poder operarlas con el criterio que necesitemos, el casteo es dicha transformación y para cada variable se hace de manera diferente, a continuación se muestran los comandos en python para castear variables."
   ]
  },
  {
   "cell_type": "code",
   "execution_count": 6,
   "metadata": {},
   "outputs": [
    {
     "name": "stdout",
     "output_type": "stream",
     "text": [
      " de flotante 2.579000 a entero 2 \n",
      "\n",
      " de entero 2 a flotante 2.000000 \n",
      "\n",
      " de flotante 2.500000 a cadena 2.5 \n",
      "\n",
      " de cadena 5 a flotante 5.000000  \n",
      "\n"
     ]
    }
   ],
   "source": [
    "print(\" de flotante %f a entero %d \\n\"%(2.579,int(2.579)))\n",
    "\n",
    "print(\" de entero %d a flotante %f \\n\"%(2,float(2)))\n",
    "\n",
    "print(\" de flotante %f a cadena %s \\n\"%(2.5,str(2.5)))\n",
    "\n",
    "print(\" de cadena %s a flotante %f  \\n\"%(\"5\",float(\"5\")))"
   ]
  },
  {
   "cell_type": "markdown",
   "metadata": {},
   "source": [
    "## Comparaciones.\n",
    "\n",
    "En python, al igual que en otros lenguajes se tiene la manera de comparar dos números, arrays, a continuación se presenta un tabla con los comparativos.\n",
    "\n",
    "| Operación. | Símbolo. |\n",
    "| :-:  | :-: |\n",
    "Igual a (comparación)| == |\n",
    "Distinto de (comparación)| != o <>|\n",
    "Mayor que, Menor que| >, <|\n",
    "Mayor o igual, Menor o igual| >=, =<|\n",
    "y, o |and, or|\n",
    "cierto, falso| True,False|\n",
    "\n",
    "En el siguiente fragmento de código se compara si el número 8 es mayor a 5."
   ]
  },
  {
   "cell_type": "code",
   "execution_count": 45,
   "metadata": {},
   "outputs": [
    {
     "name": "stdout",
     "output_type": "stream",
     "text": [
      "True\n"
     ]
    }
   ],
   "source": [
    "resultado = 8 > 5\n",
    "print(resultado)"
   ]
  },
  {
   "cell_type": "markdown",
   "metadata": {},
   "source": [
    "En el siguiente bloque se añade el operador lógico \" or \"  se cumple cuando alguna de las proposiciones es verdadera, también se hacen comparaciones de mayor que en el siguiente renglón."
   ]
  },
  {
   "cell_type": "code",
   "execution_count": 46,
   "metadata": {},
   "outputs": [
    {
     "name": "stdout",
     "output_type": "stream",
     "text": [
      "True\n"
     ]
    }
   ],
   "source": [
    "resultado = (4 > 8) or (3 > 2)\n",
    "print(resultado)"
   ]
  },
  {
   "cell_type": "markdown",
   "metadata": {},
   "source": [
    "El operador lógico \" and \" se cumple cuando ambas condiciones son verdaderas."
   ]
  },
  {
   "cell_type": "code",
   "execution_count": 47,
   "metadata": {},
   "outputs": [
    {
     "name": "stdout",
     "output_type": "stream",
     "text": [
      "False\n"
     ]
    }
   ],
   "source": [
    "resultado = True and False\n",
    "print(resultado)"
   ]
  },
  {
   "cell_type": "code",
   "execution_count": 48,
   "metadata": {},
   "outputs": [
    {
     "name": "stdout",
     "output_type": "stream",
     "text": [
      "False\n"
     ]
    }
   ],
   "source": [
    "resultado = (4 > 8) and (3 > 2)\n",
    "print(resultado)"
   ]
  },
  {
   "cell_type": "markdown",
   "metadata": {},
   "source": [
    "El comparativo \" != \" denota que dos valores son distintos."
   ]
  },
  {
   "cell_type": "code",
   "execution_count": 49,
   "metadata": {},
   "outputs": [
    {
     "name": "stdout",
     "output_type": "stream",
     "text": [
      "True\n"
     ]
    }
   ],
   "source": [
    "resultado= (5!=1)\n",
    "print(resultado)"
   ]
  },
  {
   "cell_type": "markdown",
   "metadata": {},
   "source": [
    "Por último el comparativo de igualdad de denota \" == \""
   ]
  },
  {
   "cell_type": "code",
   "execution_count": 51,
   "metadata": {},
   "outputs": [
    {
     "name": "stdout",
     "output_type": "stream",
     "text": [
      "True\n"
     ]
    }
   ],
   "source": [
    "resultado= (5==round(5.2))\n",
    "print(resultado)"
   ]
  },
  {
   "cell_type": "markdown",
   "metadata": {},
   "source": [
    "## Cadenas.\n",
    "\n",
    "Las variables de tipo caracter se declaran haciendo uso de las comillas dobles \"  \"  o comillas simples  '  ' , dentro de las comillas iría la palabra.\n",
    "\n",
    "\n",
    "\n",
    "Para obtener la longitud de la cadena , se hace con el comando len(frase), recuerde que los espacios en blanco también cuentan como caracter.\n",
    "\n",
    "Algunos propiedades que tienen las cadenas, es poder convertirlas en mayúsculas o minúsculas , para eso se utiliza la notación el punto de la siguiente manera:\n",
    "\n",
    ".upper() es para convertir a mayúsculas y .lower() es para convertir a minúsculas, también puedes reemplazar una letra o frase de la cadena conel comando .replace()."
   ]
  },
  {
   "cell_type": "code",
   "execution_count": 38,
   "metadata": {},
   "outputs": [
    {
     "name": "stdout",
     "output_type": "stream",
     "text": [
      "longitud de la cadena 75\n",
      "\n",
      "más lejos, \n",
      "\n",
      "Si he logr\n",
      "\n",
      "SI HE LOGRADO VER MÁS LEJOS, HA SIDO PORQUE HE SUBIDO A HOMBROS DE GIGANTES\n",
      "\n",
      "si he logrado ver más lejos, ha sido porque he subido a hombros de gigantes\n",
      "\n"
     ]
    },
    {
     "data": {
      "text/plain": [
       "'Si he logrado ver más lejos, ha sido porque he subido a la chepa de gigantes'"
      ]
     },
     "execution_count": 38,
     "metadata": {},
     "output_type": "execute_result"
    }
   ],
   "source": [
    "frase = \"Si he logrado ver más lejos, ha sido porque he subido a hombros de gigantes\"\n",
    "print('longitud de la cadena %d\\n'%len(frase))\n",
    "\n",
    "print(frase[18:29]+'\\n') # barrido de cadena \n",
    "print(frase[:10]+'\\n') # barrido de cadena \n",
    "\n",
    "print(frase.upper()+'\\n')\n",
    "\n",
    "print(frase.lower()+'\\n')\n",
    "\n",
    "frase.replace(\"hombros\", \"la chepa\")"
   ]
  },
  {
   "cell_type": "markdown",
   "metadata": {},
   "source": [
    "El slicing consiste en recorrer la cadena por secciones, en el ejmplo anterior \"frase[18:29]\" lo estas recorriendo de la posición 18 a la 28, pues python empieza a indexar desde la posición cero."
   ]
  },
  {
   "cell_type": "markdown",
   "metadata": {},
   "source": [
    "## Funciones predefinidas. "
   ]
  },
  {
   "cell_type": "code",
   "execution_count": 8,
   "metadata": {},
   "outputs": [
    {
     "data": {
      "text/plain": [
       "3"
      ]
     },
     "execution_count": 8,
     "metadata": {},
     "output_type": "execute_result"
    }
   ],
   "source": [
    "abs(-3) # saca el valor absoluto"
   ]
  },
  {
   "cell_type": "code",
   "execution_count": 9,
   "metadata": {},
   "outputs": [
    {
     "data": {
      "text/plain": [
       "2.15"
      ]
     },
     "execution_count": 9,
     "metadata": {},
     "output_type": "execute_result"
    }
   ],
   "source": [
    "round(2.1451, 2) # redondea a dos decimales"
   ]
  },
  {
   "cell_type": "code",
   "execution_count": 10,
   "metadata": {},
   "outputs": [
    {
     "data": {
      "text/plain": [
       "0"
      ]
     },
     "execution_count": 10,
     "metadata": {},
     "output_type": "execute_result"
    }
   ],
   "source": [
    "4%2 # obtiene el residuo 4 divido entre 2 "
   ]
  },
  {
   "cell_type": "code",
   "execution_count": 15,
   "metadata": {},
   "outputs": [
    {
     "data": {
      "text/plain": [
       "3"
      ]
     },
     "execution_count": 15,
     "metadata": {},
     "output_type": "execute_result"
    }
   ],
   "source": [
    "1+2 # suma arimética"
   ]
  },
  {
   "cell_type": "code",
   "execution_count": 13,
   "metadata": {},
   "outputs": [
    {
     "data": {
      "text/plain": [
       "'Hola clase'"
      ]
     },
     "execution_count": 13,
     "metadata": {},
     "output_type": "execute_result"
    }
   ],
   "source": [
    "\"Hola\" + \" \" + \"clase\" # sumar cadenas es concatenarlas."
   ]
  },
  {
   "cell_type": "code",
   "execution_count": 16,
   "metadata": {},
   "outputs": [
    {
     "name": "stdout",
     "output_type": "stream",
     "text": [
      "Hola clase\n"
     ]
    }
   ],
   "source": [
    "print(\"Hola clase\") # aqui se muestra la concatenación"
   ]
  }
 ],
 "metadata": {
  "kernelspec": {
   "display_name": "Python 3 (ipykernel)",
   "language": "python",
   "name": "python3"
  },
  "language_info": {
   "codemirror_mode": {
    "name": "ipython",
    "version": 3
   },
   "file_extension": ".py",
   "mimetype": "text/x-python",
   "name": "python",
   "nbconvert_exporter": "python",
   "pygments_lexer": "ipython3",
   "version": "3.9.12"
  }
 },
 "nbformat": 4,
 "nbformat_minor": 4
}
