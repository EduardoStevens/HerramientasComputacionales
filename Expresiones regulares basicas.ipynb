{
 "cells": [
  {
   "cell_type": "markdown",
   "id": "0c4018bd",
   "metadata": {},
   "source": [
    "<font color=\"Red\" face=\"Comic Sans MS,arial\">\n",
    "  <h1 align=\"center\"><i>Expresiones regulares básicas </i></h1>\n",
    "  </font>\n",
    "  \n",
    "> Elaborado por: Jesús Iván Coss Calderón. mat_ing_coss@ciencias.unam.mx"
   ]
  },
  {
   "cell_type": "markdown",
   "id": "d572795c",
   "metadata": {},
   "source": [
    "**Objetivo general**\n",
    "\n",
    "* Aprender los fundamentos de la declaración de funciones\n",
    "\n",
    "**Objetivos particulares**\n",
    "\n",
    "* Entender la elaboración de funciones"
   ]
  },
  {
   "cell_type": "markdown",
   "id": "001e54d2",
   "metadata": {},
   "source": [
    "[**Regresa al notebook principal**](https://github.com/seismomat/HerramientasComputacionales/blob/main/TemarioDePython/Temario%20de%20Python.ipynb)"
   ]
  },
  {
   "cell_type": "markdown",
   "id": "b76ffc8a",
   "metadata": {},
   "source": [
    "<a name='c1'></a>\n",
    "\n",
    "## Contenido\n",
    "\n",
    "- [Funciones](#1)\n",
    "    - [Declaración](#1-1)\n",
    "    - [Llamando funciones creadas](#1-2)\n",
    "    - [Método Keys()](#1-3)\n",
    "    - [Método Values()](#1-4)\n",
    "    - [Método de acceso a elementos](#1-5)\n",
    "    - [Agregar elementos](#1-6)\n",
    "- [Ejemplo](#2)\n",
    "- [Tipos de datos en un diccionario](#3)\n",
    "- [Pasar valores de un diccionario a una lista](#4)\n",
    "- [Utilidad de los diccionarios](#5)\n",
    "- [Ejercicios propuestos](#6)"
   ]
  },
  {
   "cell_type": "markdown",
   "id": "269975e0",
   "metadata": {},
   "source": [
    "<a name='1'></a>\n",
    "\n",
    "# Módulo Regex\n",
    "[regresar al contenido](#c1)\n",
    "\n",
    "Python tiene un paquete incorporado llamado \"re\" que se puede utilizar para trabajar con Expresiones Regulares.\n",
    "\n",
    "Importa el módulo \"re\":"
   ]
  },
  {
   "cell_type": "code",
   "execution_count": 1,
   "id": "ba5b82bf",
   "metadata": {},
   "outputs": [],
   "source": [
    "import re"
   ]
  },
  {
   "cell_type": "markdown",
   "id": "cbe0ed82",
   "metadata": {},
   "source": [
    "Cuando hayas importado el módulo \"re\", puedes empezar a usar expresiones regulares."
   ]
  },
  {
   "cell_type": "code",
   "execution_count": 2,
   "id": "29c1e28c",
   "metadata": {},
   "outputs": [],
   "source": [
    "import re\n",
    "\n",
    "txt = \"The rain in Spain\"\n",
    "x = re.search(\"^The.*Spain$\", txt)"
   ]
  },
  {
   "cell_type": "markdown",
   "id": "fb9dfa06",
   "metadata": {},
   "source": [
    "<a name='1-1'></a>\n",
    "\n",
    "## Funciones de Regex\n",
    "[regresar al contenido](#c1)\n",
    "\n",
    "El módulo re ofrece un conjunto de funciones que nos permite buscar una cadena en busca de una coincidencia:"
   ]
  },
  {
   "cell_type": "markdown",
   "id": "028a7929",
   "metadata": {},
   "source": [
    "1. `findall`: Devuelve una lista que contiene todas las coincidencias\n",
    "2. `search`: Devuelve un objeto Match si hay una coincidencia en cualquier parte de la cadena\n",
    "3. `split`: Devuelve una lista en la que la cadena ha sido dividida en cada coincidencia\n",
    "4. `sub`: Reemplaza una o muchas coincidencias con una cadena"
   ]
  },
  {
   "cell_type": "markdown",
   "id": "d003deb7",
   "metadata": {},
   "source": [
    "<a name='2'></a>\n",
    "\n",
    "# Metacaracteres\n",
    "[regresar al contenido](#c1)"
   ]
  },
  {
   "cell_type": "markdown",
   "id": "9fe4a11d",
   "metadata": {},
   "source": [
    "| Character | Descripción                                        | Ejemplo           |\n",
    "|-----------|---------------------------------------------------|-------------------|\n",
    "| []        | Un conjunto de caracteres                         | \"[a-m]\"           |\n",
    "| \\         | Indica una secuencia especial (también se puede usar para escapar caracteres especiales) | \"\\d\" |\n",
    "| .         | Cualquier carácter (excepto el carácter de nueva línea) | \"he..o\" |\n",
    "| ^         | Comienza con                                       | \"^hello\" |\n",
    "| $         | Termina con                                        | \"planet\\$\" |\n",
    "| *         | Cero o más ocurrencias                            | \"he.*o\" |\n",
    "| +         | Una o más ocurrencias                             | \"he.+o\" |\n",
    "| ?         | Cero o una ocurrencia                             | \"he.?o\" |\n",
    "| {}        | Exactamente el número especificado de ocurrencias  | \"he.{2}o\" |\n",
    "| \\|        | O                                                 | \"falls|stays\" |\n",
    "| ()        | Capturar y agrupar                                | \"(ab)+\" |\n"
   ]
  },
  {
   "cell_type": "markdown",
   "id": "334a05cf",
   "metadata": {},
   "source": [
    "<a name='3'></a>\n",
    "\n",
    "# Secuencias especiales\n",
    "[regresar al contenido](#c1)"
   ]
  },
  {
   "cell_type": "markdown",
   "id": "6b8eb44f",
   "metadata": {},
   "source": [
    "Una secuencia especial es un `\\` seguido de uno de los caracteres de la lista a continuación y tiene un significado especial"
   ]
  },
  {
   "cell_type": "markdown",
   "id": "be161290",
   "metadata": {},
   "source": [
    "| Character | Descripción                                              | Ejemplo  |\n",
    "|-----------|---------------------------------------------------------|---------|\n",
    "| \\A        | Devuelve una coincidencia si los caracteres especificados están al principio de la cadena | \"\\AThe\" |\n",
    "| \\b        | Devuelve una coincidencia donde los caracteres especificados están al principio o al final de una palabra (la \"r\" al principio asegura que la cadena se trate como una \"cadena en crudo\") | r\"\\bain\" <br> r\"ain\\b\" |\n",
    "| \\B        | Devuelve una coincidencia donde los caracteres especificados están presentes, pero NO al principio (o al final) de una palabra (la \"r\" al principio asegura que la cadena se trate como una \"cadena en crudo\") | r\"\\Bain\" <br> r\"ain\\B\" |\n",
    "| \\d        | Devuelve una coincidencia donde la cadena contiene dígitos (números del 0 al 9) | \"\\d\" |\n",
    "| \\D        | Devuelve una coincidencia donde la cadena NO CONTIENE dígitos | \"\\D\" |\n",
    "| \\s        | Devuelve una coincidencia donde la cadena contiene un carácter de espacio en blanco | \"\\s\" |\n",
    "| \\S        | Devuelve una coincidencia donde la cadena NO CONTIENE un carácter de espacio en blanco | \"\\S\" |\n",
    "| \\w        | Devuelve una coincidencia donde la cadena contiene cualquier carácter de palabra (caracteres de a a Z, dígitos del 0 al 9 y el carácter de subrayado _ ) | \"\\w\" |\n",
    "| \\W        | Devuelve una coincidencia donde la cadena NO CONTIENE ningún carácter de palabra | \"\\W\" |\n",
    "| \\Z        | Devuelve una coincidencia si los caracteres especificados están al final de la cadena | \"Spain\\Z\" |\n"
   ]
  },
  {
   "cell_type": "markdown",
   "id": "20082363",
   "metadata": {},
   "source": [
    "<a name='4'></a>\n",
    "\n",
    "# Conjuntos\n",
    "[regresar al contenido](#c1)"
   ]
  },
  {
   "cell_type": "markdown",
   "id": "40b8f370",
   "metadata": {},
   "source": [
    "Un conjunto es un conjunto de caracteres dentro de un par de corchetes [] con un significado especial:"
   ]
  },
  {
   "cell_type": "markdown",
   "id": "51c57d99",
   "metadata": {},
   "source": [
    "| Set       | Descripción                                                                                         | \n",
    "|-----------|-----------------------------------------------------------------------------------------------------|\n",
    "| [arn]     | Devuelve una coincidencia donde uno de los caracteres especificados (a, r o n) está presente.       |        \n",
    "| [a-n]     | Devuelve una coincidencia para cualquier carácter en minúsculas, alfabéticamente entre a y n.      |        \n",
    "| [^arn]    | Devuelve una coincidencia para cualquier carácter EXCEPTO a, r y n.                                   |        \n",
    "| [0123]    | Devuelve una coincidencia donde está presente cualquiera de los dígitos especificados (0, 1, 2 o 3). |        \n",
    "| [0-9]     | Devuelve una coincidencia para cualquier dígito entre 0 y 9.                                         |        \n",
    "| [0-5][0-9]| Devuelve una coincidencia para cualquier número de dos dígitos de 00 a 59.                            |        \n",
    "| [a-zA-Z]  | Devuelve una coincidencia para cualquier carácter alfabéticamente entre a y z, en minúsculas O mayúsculas. |        \n",
    "| [+]       | En conjuntos, +, *, ., |, (), $,{} no tiene un significado especial, por lo que [+] significa: devolver una coincidencia para cualquier carácter + en la cadena. | \n"
   ]
  },
  {
   "cell_type": "code",
   "execution_count": null,
   "id": "a0ef0365",
   "metadata": {},
   "outputs": [],
   "source": [
    "<a name='4'></a>\n",
    "\n",
    "# Conjuntos\n",
    "[regresar al contenido](#c1)"
   ]
  },
  {
   "cell_type": "code",
   "execution_count": null,
   "id": "7b2ca22c",
   "metadata": {},
   "outputs": [],
   "source": [
    "<a name='4'></a>\n",
    "\n",
    "# Conjuntos\n",
    "[regresar al contenido](#c1)"
   ]
  },
  {
   "cell_type": "code",
   "execution_count": null,
   "id": "e96cd4a8",
   "metadata": {},
   "outputs": [],
   "source": [
    "<a name='4'></a>\n",
    "\n",
    "# Conjuntos\n",
    "[regresar al contenido](#c1)"
   ]
  },
  {
   "cell_type": "code",
   "execution_count": null,
   "id": "259d69f0",
   "metadata": {},
   "outputs": [],
   "source": [
    "<a name='4'></a>\n",
    "\n",
    "# Conjuntos\n",
    "[regresar al contenido](#c1)"
   ]
  },
  {
   "cell_type": "markdown",
   "id": "202b7434",
   "metadata": {},
   "source": [
    "<a name='6'></a>\n",
    "\n",
    "# Ejercicios propuestos\n",
    "[regresar al contenido](#c1)"
   ]
  },
  {
   "cell_type": "markdown",
   "id": "7739c210",
   "metadata": {},
   "source": [
    "Propuestas de ejercicios para practicar con diccionarios en Python:\n",
    "\n",
    "1. **Contador de Palabras**: Escribe un programa que cuente cuántas veces aparece cada palabra en una frase y almacene los resultados en un diccionario.\n",
    "\n",
    "2. **Gestión de Inventario**: Crea un programa que simule la gestión de inventario de una tienda. Puedes agregar y restar cantidades de productos utilizando diccionarios.\n",
    "\n",
    "3. **Diccionario Invertido**: Escribe una función que tome un diccionario como entrada y genere un nuevo diccionario donde las claves sean los valores del diccionario original y los valores sean las claves.\n",
    "\n",
    "4. **Contar Caracteres**: Crea una función que tome una cadena como entrada y devuelva un diccionario que cuente la cantidad de veces que aparece cada caracter.\n",
    "\n",
    "5. **Unión de Diccionarios**: Implementa una función que tome dos diccionarios y los combine en uno solo. Si hay claves repetidas, suma los valores.\n",
    "\n",
    "6. **Máximo Valor en Diccionario**: Escribe una función que encuentre la clave asociada al valor máximo en un diccionario de números.\n",
    "\n",
    "7. **Modificar Valores**: Crea un programa que permita al usuario modificar los valores de un diccionario de información personal.\n",
    "\n",
    "8. **Cálculo de Notas**: Crea un programa que calcule el promedio de calificaciones de estudiantes y los almacene en un diccionario con sus nombres.\n",
    "\n",
    "9. **Análisis de Texto**: Escribe una función que tome un texto como entrada y genere un diccionario con las palabras únicas y la cantidad de veces que aparece cada una.\n",
    "\n",
    "10. **Diccionario de Palabras Anidadas**: Crea un diccionario que contenga información sobre diferentes países, como sus ciudades y poblaciones. Puedes anidar diccionarios dentro de otros diccionarios.\n",
    "\n",
    "11. **Contador de Letras**: Escribe un programa que cuente cuántas veces aparece cada letra en una cadena y almacene los resultados en un diccionario.\n",
    "\n",
    "12. **Traductor Simple**: Crea un programa que funcione como un traductor simple, utilizando un diccionario para mapear palabras en un idioma a otro.\n",
    "\n",
    "13. **Estadísticas de Palabras**: Implementa una función que tome un párrafo como entrada y genere un diccionario con estadísticas sobre las palabras (número de letras, número de vocales, etc.).\n",
    "\n",
    "14. **Eliminación de Duplicados**: Escribe un programa que tome una lista y elimine los elementos duplicados, utilizando un diccionario para rastrear elementos únicos.\n",
    "\n",
    "15. **Contador de Elementos**: Crea una función que tome una lista y genere un diccionario que cuente cuántas veces aparece cada elemento.\n",
    "\n",
    "Estos ejercicios te brindarán la oportunidad de practicar y familiarizarte con la manipulación y uso de diccionarios en Python. ¡Disfruta resolviéndolos!"
   ]
  },
  {
   "cell_type": "code",
   "execution_count": null,
   "id": "ef5b266e",
   "metadata": {},
   "outputs": [],
   "source": []
  }
 ],
 "metadata": {
  "kernelspec": {
   "display_name": "Python 3 (ipykernel)",
   "language": "python",
   "name": "python3"
  },
  "language_info": {
   "codemirror_mode": {
    "name": "ipython",
    "version": 3
   },
   "file_extension": ".py",
   "mimetype": "text/x-python",
   "name": "python",
   "nbconvert_exporter": "python",
   "pygments_lexer": "ipython3",
   "version": "3.9.12"
  }
 },
 "nbformat": 4,
 "nbformat_minor": 5
}
