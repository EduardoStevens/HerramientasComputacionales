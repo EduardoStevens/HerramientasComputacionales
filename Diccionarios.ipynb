{
  "cells": [
    {
      "cell_type": "markdown",
      "metadata": {
        "id": "view-in-github",
        "colab_type": "text"
      },
      "source": [
        "<a href=\"https://colab.research.google.com/github/seismomat/HerramientasComputacionales/blob/Ivan/Diccionarios.ipynb\" target=\"_parent\"><img src=\"https://colab.research.google.com/assets/colab-badge.svg\" alt=\"Open In Colab\"/></a>"
      ]
    },
    {
      "cell_type": "markdown",
      "id": "fa9de960",
      "metadata": {
        "id": "fa9de960"
      },
      "source": [
        "## Diccionarios.\n",
        "\n",
        "Los diccionarios, son otra estructura de dato que se tiene en python, la manera de declarar un diccionario se observa en el siguiente bloque, note que con comillas simples se introducen los nombres de la variable seguido de dos puntos se introduce el valor que toma dicha variable, el cual no se acota a valores numéricos."
      ]
    },
    {
      "cell_type": "code",
      "execution_count": null,
      "id": "089653d8",
      "metadata": {
        "id": "089653d8",
        "outputId": "da1dcf0b-0fa6-43cf-bb26-f5decf2a54c6"
      },
      "outputs": [
        {
          "name": "stdout",
          "output_type": "stream",
          "text": [
            "<class 'dict'>\n"
          ]
        }
      ],
      "source": [
        "star = {'name': 'Hamal', 'mag': 2.00, 'SpT': 'K2III', 'dist': 66}\n",
        "print(type(star))"
      ]
    },
    {
      "cell_type": "markdown",
      "id": "7ad6e142",
      "metadata": {
        "id": "7ad6e142"
      },
      "source": [
        "Cabe mencionar que la clase de dicha estructura es \"dict\", si desea conocer los nombres de todas las variables en el diccionario se hace de la siguiente manera nombre_diccionario.keys() y los valores los obtienes con nombre_diccionario.values(), para agregar una nueva variable se realiza de la siguiente manera ,nombre_diccionario['nueva_variable']=valor_nuevo>"
      ]
    },
    {
      "cell_type": "code",
      "execution_count": null,
      "id": "d157b8aa",
      "metadata": {
        "id": "d157b8aa",
        "outputId": "b177d74c-3d58-445b-c910-91a068f03407"
      },
      "outputs": [
        {
          "data": {
            "text/plain": [
              "dict_keys(['name', 'mag', 'SpT', 'dist'])"
            ]
          },
          "execution_count": 2,
          "metadata": {},
          "output_type": "execute_result"
        }
      ],
      "source": [
        "star.keys()"
      ]
    },
    {
      "cell_type": "code",
      "execution_count": null,
      "id": "35a93859",
      "metadata": {
        "id": "35a93859",
        "outputId": "b3fa3d64-a887-48c8-ee81-51b2559e7761"
      },
      "outputs": [
        {
          "data": {
            "text/plain": [
              "dict_values(['Hamal', 2.0, 'K2III', 66])"
            ]
          },
          "execution_count": 3,
          "metadata": {},
          "output_type": "execute_result"
        }
      ],
      "source": [
        "star.values()"
      ]
    },
    {
      "cell_type": "code",
      "execution_count": null,
      "id": "a61f04bb",
      "metadata": {
        "id": "a61f04bb",
        "outputId": "b191b3dc-39f4-4725-a887-a7eca594d3c1"
      },
      "outputs": [
        {
          "name": "stdout",
          "output_type": "stream",
          "text": [
            "Hamal\n"
          ]
        }
      ],
      "source": [
        "print( star['name'] )"
      ]
    },
    {
      "cell_type": "code",
      "execution_count": null,
      "id": "1d68d1e7",
      "metadata": {
        "id": "1d68d1e7",
        "outputId": "b08f7c58-91ef-443c-a955-e0b252e73340"
      },
      "outputs": [
        {
          "data": {
            "text/plain": [
              "dict_keys(['name', 'mag', 'SpT', 'dist', 'paralax'])"
            ]
          },
          "execution_count": 5,
          "metadata": {},
          "output_type": "execute_result"
        }
      ],
      "source": [
        "star['paralax'] = 49.56\n",
        "star.keys()"
      ]
    },
    {
      "cell_type": "markdown",
      "id": "90b5c193",
      "metadata": {
        "id": "90b5c193"
      },
      "source": [
        "La siguiente función es un ejemplo, en el cual se usa lo visto anteriormente de un lista y un diccionario, simplemente se extraen los valores del diccionario.\n"
      ]
    },
    {
      "cell_type": "code",
      "execution_count": null,
      "id": "8eab08a3",
      "metadata": {
        "id": "8eab08a3"
      },
      "outputs": [],
      "source": [
        "diccionario = {'python': 2.7, 'zope': 2.13, 'plone': 5.7}\n",
        "\n",
        "l=[]\n",
        "for i in diccionario.keys():\n",
        "    l.append(diccionario[i])\n",
        "\n",
        "print(l)"
      ]
    }
  ],
  "metadata": {
    "kernelspec": {
      "display_name": "Python 3 (ipykernel)",
      "language": "python",
      "name": "python3"
    },
    "language_info": {
      "codemirror_mode": {
        "name": "ipython",
        "version": 3
      },
      "file_extension": ".py",
      "mimetype": "text/x-python",
      "name": "python",
      "nbconvert_exporter": "python",
      "pygments_lexer": "ipython3",
      "version": "3.9.12"
    },
    "colab": {
      "provenance": [],
      "include_colab_link": true
    }
  },
  "nbformat": 4,
  "nbformat_minor": 5
}