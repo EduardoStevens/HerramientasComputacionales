{
  "nbformat": 4,
  "nbformat_minor": 0,
  "metadata": {
    "colab": {
      "provenance": []
    },
    "kernelspec": {
      "name": "python3",
      "display_name": "Python 3"
    },
    "language_info": {
      "name": "python"
    }
  },
  "cells": [
    {
      "cell_type": "code",
      "execution_count": null,
      "metadata": {
        "id": "7nnxdwRMAbku"
      },
      "outputs": [],
      "source": [
        "x=\"awesome\"\n",
        "\n",
        "def myfunc():\n",
        "    #global\n",
        "    x = \"Eduardo\"\n",
        "    print(\"Python is \" + x)\n",
        "\n",
        "myfunc()\n",
        "\n",
        "print(\"Python is \" + x)"
      ]
    },
    {
      "cell_type": "code",
      "source": [
        "print(\"Hola mundo!!!\")"
      ],
      "metadata": {
        "id": "zy6UMHwsAo2s"
      },
      "execution_count": null,
      "outputs": []
    },
    {
      "cell_type": "code",
      "source": [
        "mensaje = \"Hola, mundo!\"\n",
        "\n",
        "print(mensaje)"
      ],
      "metadata": {
        "colab": {
          "base_uri": "https://localhost:8080/"
        },
        "id": "TrbgHEbcAsJw",
        "outputId": "e89dcb08-4490-489a-a49c-21f6a04aaec7"
      },
      "execution_count": null,
      "outputs": [
        {
          "output_type": "stream",
          "name": "stdout",
          "text": [
            "Hola, mundo!\n"
          ]
        }
      ]
    },
    {
      "cell_type": "code",
      "source": [
        "base=input(\"Escriba la base del triangulo \")\n",
        "altura=input(\"Escriba la altura del triangulo \")\n",
        "base=float(base)\n",
        "altura=float(altura)\n",
        "area_Del_Triangulo=float(base*altura)/2\n",
        "print(\"El area del triangulo es %f: \" %(area_Del_Triangulo))"
      ],
      "metadata": {
        "colab": {
          "base_uri": "https://localhost:8080/"
        },
        "id": "R603Wr1OBTLa",
        "outputId": "27f328f7-dddb-4f72-8f66-cab1f42f3a70"
      },
      "execution_count": null,
      "outputs": [
        {
          "output_type": "stream",
          "name": "stdout",
          "text": [
            "Escriba la base del triangulo 5.6\n",
            "Escriba la altura del triangulo 8.7\n",
            "El area del triangulo es 24.360000: \n"
          ]
        }
      ]
    },
    {
      "cell_type": "code",
      "source": [
        "numero=input(\"Escriba el numero para obtener su tabla de multiplicacion hasta el diez \")\n",
        "numero=int(numero)\n",
        "print(\"Numero * 1 = \", numero)\n",
        "print(\"Numero * 2 = \", numero*2)\n",
        "print(\"Numero * 3 = \", numero*3)\n",
        "print(\"Numero * 4 = \", numero*4)\n",
        "print(\"Numero * 5 = \", numero*5)\n",
        "print(\"Numero * 6 = \", numero*6)\n",
        "print(\"Numero * 7 = \", numero*7)\n",
        "print(\"Numero * 8 = \", numero*8)\n",
        "print(\"Numero * 9 = \", numero*9)\n",
        "print(\"Numero * 10 = \", numero*10)"
      ],
      "metadata": {
        "colab": {
          "base_uri": "https://localhost:8080/"
        },
        "id": "XY96iyNlCUe4",
        "outputId": "a33ef0b6-5907-483f-fe53-b206ae269585"
      },
      "execution_count": null,
      "outputs": [
        {
          "output_type": "stream",
          "name": "stdout",
          "text": [
            "Escriba el numero para obtener su tabla de multiplicacion hasta el diez 4\n",
            "Numero * 1 =  4\n",
            "Numero * 2 =  8\n",
            "Numero * 3 =  12\n",
            "Numero * 4 =  16\n",
            "Numero * 5 =  20\n",
            "Numero * 6 =  24\n",
            "Numero * 7 =  28\n",
            "Numero * 8 =  32\n",
            "Numero * 9 =  36\n",
            "Numero * 10 =  40\n"
          ]
        }
      ]
    },
    {
      "cell_type": "code",
      "source": [
        "complejo1 = 1.2 + 5.0j\n",
        "complejo2 = 2.4 + 4.8j\n",
        "type(complejo1)\n",
        "print(complejo1+complejo2)"
      ],
      "metadata": {
        "colab": {
          "base_uri": "https://localhost:8080/"
        },
        "id": "j12FpjjFHqSu",
        "outputId": "8908a839-0c8b-4d4b-d1fe-484ade7e6e5b"
      },
      "execution_count": null,
      "outputs": [
        {
          "output_type": "stream",
          "name": "stdout",
          "text": [
            "(3.5999999999999996+9.8j)\n"
          ]
        }
      ]
    },
    {
      "cell_type": "code",
      "source": [
        "resultado = 4>8 or 3>2\n",
        "print(resultado)"
      ],
      "metadata": {
        "colab": {
          "base_uri": "https://localhost:8080/"
        },
        "id": "JofVS-sGK99T",
        "outputId": "f5fb066a-1d68-4bea-83aa-19c10c140aa1"
      },
      "execution_count": null,
      "outputs": [
        {
          "output_type": "stream",
          "name": "stdout",
          "text": [
            "True\n"
          ]
        }
      ]
    },
    {
      "cell_type": "code",
      "source": [
        "(0.1+0.1+0.1)==0.3"
      ],
      "metadata": {
        "colab": {
          "base_uri": "https://localhost:8080/"
        },
        "id": "uOV1ibh2Mg9s",
        "outputId": "76a7303e-6c64-414a-ce78-3e030925ebba"
      },
      "execution_count": null,
      "outputs": [
        {
          "output_type": "execute_result",
          "data": {
            "text/plain": [
              "False"
            ]
          },
          "metadata": {},
          "execution_count": 24
        }
      ]
    },
    {
      "cell_type": "code",
      "source": [
        "round(2.1451,3)"
      ],
      "metadata": {
        "colab": {
          "base_uri": "https://localhost:8080/"
        },
        "id": "Uy5m027sNDmO",
        "outputId": "f5c69dc9-b1d5-4fe7-84e3-2380cdd5b7ef"
      },
      "execution_count": null,
      "outputs": [
        {
          "output_type": "execute_result",
          "data": {
            "text/plain": [
              "2.145"
            ]
          },
          "metadata": {},
          "execution_count": 26
        }
      ]
    }
  ]
}