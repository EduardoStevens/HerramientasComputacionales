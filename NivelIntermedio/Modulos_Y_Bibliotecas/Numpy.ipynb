{
 "cells": [
  {
   "cell_type": "markdown",
   "id": "0c4018bd",
   "metadata": {},
   "source": [
    "<font color=\"Red\" face=\"Comic Sans MS,arial\">\n",
    "  <h1 align=\"center\"><i>Numpy </i></h1>\n",
    "  </font>\n",
    "  \n",
    "> Elaborado por: Jesús Iván Coss Calderón. mat_ing_coss@ciencias.unam.mx"
   ]
  },
  {
   "cell_type": "markdown",
   "id": "d572795c",
   "metadata": {},
   "source": [
    "**Objetivo general**\n",
    "\n",
    "* Aprender los fundamentos de la biblioteca de Numpy\n",
    "\n",
    "**Objetivos particulares**\n",
    "\n",
    "* Entender el uso de los métodos de Numpy"
   ]
  },
  {
   "cell_type": "markdown",
   "id": "001e54d2",
   "metadata": {},
   "source": [
    "[**Regresa al notebook principal**](https://github.com/seismomat/HerramientasComputacionales/blob/main/TemarioDePython/Temario%20de%20Python.ipynb)"
   ]
  },
  {
   "cell_type": "markdown",
   "id": "b76ffc8a",
   "metadata": {},
   "source": [
    "<a name='c1'></a>\n",
    "\n",
    "## Contenido\n",
    "\n",
    "- [¿Qué es NumPy?](#1)\n",
    "    - [¿Por qué usar NumPy?](#1-1)\n",
    "    - [¿Por qué NumPy es más rápido que las listas?](#1-2)\n",
    "    - [Instalación de Numpy](#1-3)\n",
    "    - [Importando Numpy](#1-4)\n",
    "- [Crear un Objeto ndarray de NumPy](#2)\n",
    "    - [Arreglos 0-D](#2-1)\n",
    "    - [Arreglos 1-D](#2-2)\n",
    "    - [Arreglos 2-D](#2-3)\n",
    "    - [Arreglos 3-D](#2-4)\n",
    "    - [Checando las dimensiones de los arreglos](#2-5)\n",
    "    - [Arreglos de dimensión mayor](#2-6)\n",
    "- [Acceso a elementos](#3)\n",
    "    - [Arreglos 1-D](#3-1)\n",
    "    - [Arreglos 2-D](#3-2)\n",
    "    - [Arreglos 3-D](#3-3)\n",
    "- [Slicing](#4)\n",
    "    - [Arreglos 1-D](#4-1)\n",
    "        - [Paso](#4-1-1)\n",
    "    - [Arreglos 2-D](#4-2)\n",
    "- [Buscando en arreglos](#5)\n",
    "- [Filtrado](#6)"
   ]
  },
  {
   "cell_type": "markdown",
   "id": "269975e0",
   "metadata": {},
   "source": [
    "<a name='1'></a>\n",
    "\n",
    "# ¿Qué es NumPy?\n",
    "[regresar al contenido](#c1)\n",
    "\n",
    "NumPy es una biblioteca de Python utilizada para trabajar con matrices.\n",
    "\n",
    "También tiene funciones para trabajar en el ámbito del álgebra lineal, la transformada de Fourier y las matrices.\n",
    "\n",
    "NumPy fue creado en 2005 por Travis Oliphant. Es un proyecto de código abierto y puedes utilizarlo libremente.\n",
    "\n",
    "NumPy significa \"Numerical Python\" (Python Numérico)."
   ]
  },
  {
   "cell_type": "markdown",
   "id": "fb9dfa06",
   "metadata": {},
   "source": [
    "<a name='1-1'></a>\n",
    "\n",
    "## ¿Por qué usar NumPy?\n",
    "[regresar al contenido](#c1)\n",
    "\n",
    "En Python, tenemos listas que cumplen la función de arrays, pero son lentas de procesar.\n",
    "\n",
    "NumPy tiene como objetivo proporcionar un objeto de array que sea hasta 50 veces más rápido que las listas tradicionales de Python.\n",
    "\n",
    "El objeto de array en NumPy se llama ndarray y proporciona muchas funciones de soporte que facilitan trabajar con ndarray.\n",
    "\n",
    "Los arrays se utilizan con mucha frecuencia en la ciencia de datos, donde la velocidad y los recursos son muy importantes."
   ]
  },
  {
   "cell_type": "markdown",
   "id": "afa98fb0",
   "metadata": {},
   "source": [
    "<a name='1-2'></a>\n",
    "\n",
    "## ¿Por qué NumPy es más rápido que las listas?\n",
    "[regresar al contenido](#c1)\n",
    "\n",
    "Los arrays de NumPy se almacenan en un lugar continuo en la memoria, a diferencia de las listas, por lo que los procesos pueden acceder y manipularlos de manera muy eficiente.\n",
    "\n",
    "Este comportamiento se llama \"localidad de referencia\" en informática.\n",
    "\n",
    "Esta es la razón principal por la que NumPy es más rápido que las listas. Además, está optimizado para funcionar con las últimas arquitecturas de CPU."
   ]
  },
  {
   "cell_type": "markdown",
   "id": "1e4b0d87",
   "metadata": {},
   "source": [
    "<a name='1-3'></a>\n",
    "\n",
    "## Instalación de Numpy\n",
    "[regresar al contenido](#c1)\n",
    "\n",
    "> pip install numpy"
   ]
  },
  {
   "cell_type": "markdown",
   "id": "1afce1d8",
   "metadata": {},
   "source": [
    "<a name='1-4'></a>\n",
    "\n",
    "## Importando Numpy\n",
    "[regresar al contenido](#c1)\n",
    "\n",
    "> import numpy\n",
    "\n",
    "o también se puede importar con algún alias\n",
    "\n",
    "> import numpy as np"
   ]
  },
  {
   "cell_type": "markdown",
   "id": "d003deb7",
   "metadata": {},
   "source": [
    "<a name='2'></a>\n",
    "\n",
    "# Crear un Objeto ndarray de NumPy\n",
    "[regresar al contenido](#c1)\n",
    "\n",
    "`NumPy` se utiliza para trabajar con arrays. El objeto de array en NumPy se llama ndarray.\n",
    "\n",
    "Podemos crear un objeto ndarray de NumPy utilizando la función `array()`."
   ]
  },
  {
   "cell_type": "code",
   "execution_count": 1,
   "id": "a7c7c289",
   "metadata": {},
   "outputs": [],
   "source": [
    "import numpy as np"
   ]
  },
  {
   "cell_type": "code",
   "execution_count": 2,
   "id": "64fb5e5d",
   "metadata": {},
   "outputs": [
    {
     "name": "stdout",
     "output_type": "stream",
     "text": [
      "[1 2 3 4 5]\n",
      "<class 'numpy.ndarray'>\n"
     ]
    }
   ],
   "source": [
    "arr = np.array([1, 2, 3, 4, 5])\n",
    "\n",
    "print(arr)\n",
    "\n",
    "print(type(arr))"
   ]
  },
  {
   "cell_type": "code",
   "execution_count": 4,
   "id": "f0d7e5f2",
   "metadata": {},
   "outputs": [
    {
     "name": "stdout",
     "output_type": "stream",
     "text": [
      "[1 2 3 4 5]\n",
      "<class 'numpy.ndarray'>\n"
     ]
    }
   ],
   "source": [
    "arr1 = np.array((1, 2, 3, 4, 5))\n",
    "\n",
    "print(arr1)\n",
    "\n",
    "print(type(arr1))"
   ]
  },
  {
   "cell_type": "markdown",
   "id": "005406f1",
   "metadata": {},
   "source": [
    "<a name='2-1'></a>\n",
    "\n",
    "## Arreglos 0-D\n",
    "[regresar al contenido](#c1)\n",
    "\n",
    "Los arrays 0-D, o escalares, son los elementos en un array. Cada valor en un array se considera un array 0-D en sí mismo. En otras palabras, un array puede contener múltiples escalares como sus elementos."
   ]
  },
  {
   "cell_type": "code",
   "execution_count": 6,
   "id": "a7fb1469",
   "metadata": {},
   "outputs": [
    {
     "name": "stdout",
     "output_type": "stream",
     "text": [
      "42\n"
     ]
    }
   ],
   "source": [
    "arr = np.array(42)\n",
    "\n",
    "print(arr)"
   ]
  },
  {
   "cell_type": "markdown",
   "id": "404c4858",
   "metadata": {},
   "source": [
    "<a name='2-2'></a>\n",
    "\n",
    "## Arreglos 1-D\n",
    "[regresar al contenido](#c1)\n",
    "\n",
    "Un array que tiene arrays 0-D (escalares) como sus elementos se llama array unidimensional o 1-D. En otras palabras, es un array que contiene valores individuales en lugar de secuencias de valores."
   ]
  },
  {
   "cell_type": "code",
   "execution_count": 7,
   "id": "fe1699a4",
   "metadata": {},
   "outputs": [
    {
     "name": "stdout",
     "output_type": "stream",
     "text": [
      "[1 2 3 4 5]\n"
     ]
    }
   ],
   "source": [
    "arr = np.array([1, 2, 3, 4, 5])\n",
    "\n",
    "print(arr)"
   ]
  },
  {
   "cell_type": "markdown",
   "id": "35e019d4",
   "metadata": {},
   "source": [
    "<a name='2-3'></a>\n",
    "\n",
    "## Arreglos 2-D\n",
    "[regresar al contenido](#c1)\n",
    "\n",
    "Un array que tiene arrays 1-D como sus elementos se llama array 2-D.\n",
    "\n",
    "A menudo se utilizan para representar matrices o tensores de segundo orden."
   ]
  },
  {
   "cell_type": "code",
   "execution_count": 8,
   "id": "374d7927",
   "metadata": {},
   "outputs": [
    {
     "name": "stdout",
     "output_type": "stream",
     "text": [
      "[[1 2 3]\n",
      " [4 5 6]]\n"
     ]
    }
   ],
   "source": [
    "arr = np.array([[1, 2, 3], [4, 5, 6]])\n",
    "\n",
    "print(arr)"
   ]
  },
  {
   "cell_type": "markdown",
   "id": "52fc994d",
   "metadata": {},
   "source": [
    "<a name='2-4'></a>\n",
    "\n",
    "## Arreglos 3-D\n",
    "[regresar al contenido](#c1)\n",
    "\n",
    "Un array que tiene matrices 2-D como sus elementos se llama array 3-D.\n",
    "\n",
    "A menudo se utilizan para representar un tensor de tercer orden."
   ]
  },
  {
   "cell_type": "code",
   "execution_count": 20,
   "id": "eac0b498",
   "metadata": {},
   "outputs": [
    {
     "name": "stdout",
     "output_type": "stream",
     "text": [
      "[[[1 2 3]\n",
      "  [4 5 6]]\n",
      "\n",
      " [[1 2 3]\n",
      "  [4 5 6]]]\n"
     ]
    }
   ],
   "source": [
    "arr = np.array([[[1, 2, 3], [4, 5, 6]], [[1, 2, 3], [4, 5, 6]]])\n",
    "\n",
    "print(arr)"
   ]
  },
  {
   "cell_type": "markdown",
   "id": "2e3ac2bd",
   "metadata": {},
   "source": [
    "<a name='2-5'></a>\n",
    "\n",
    "## Checando las dimensiones de los arreglos\n",
    "[regresar al contenido](#c1)"
   ]
  },
  {
   "cell_type": "code",
   "execution_count": 27,
   "id": "0d68b896",
   "metadata": {},
   "outputs": [
    {
     "name": "stdout",
     "output_type": "stream",
     "text": [
      "0 ()\n",
      "1 (5,)\n",
      "2 (2, 3)\n",
      "3 (2, 2, 3)\n"
     ]
    }
   ],
   "source": [
    "a = np.array(42)\n",
    "b = np.array([1, 2, 3, 4, 5])\n",
    "c = np.array([[1, 2, 3], [4, 5, 6]])\n",
    "d = np.array([[[1, 2, 3], [4, 5, 6]], [[1, 2, 3], [4, 5, 6]]])\n",
    "\n",
    "print(a.ndim,a.shape)\n",
    "print(b.ndim,b.shape)\n",
    "print(c.ndim,c.shape)\n",
    "print(d.ndim,d.shape)"
   ]
  },
  {
   "cell_type": "markdown",
   "id": "309193c6",
   "metadata": {},
   "source": [
    "<a name='2-6'></a>\n",
    "\n",
    "## Arreglos de dimensión mayor\n",
    "[regresar al contenido](#c1)"
   ]
  },
  {
   "cell_type": "code",
   "execution_count": 22,
   "id": "a888e6be",
   "metadata": {},
   "outputs": [
    {
     "name": "stdout",
     "output_type": "stream",
     "text": [
      "[[[[[1 2 3 4]]]]]\n",
      "number of dimensions : 5\n"
     ]
    }
   ],
   "source": [
    "arr = np.array([1, 2, 3, 4], ndmin=5)\n",
    "\n",
    "print(arr)\n",
    "print('number of dimensions :', arr.ndim)"
   ]
  },
  {
   "cell_type": "markdown",
   "id": "334a05cf",
   "metadata": {},
   "source": [
    "<a name='3'></a>\n",
    "\n",
    "# Acceso a elementos\n",
    "[regresar al contenido](#c1)\n",
    "\n",
    "La indexación de arrays es similar a acceder a un elemento de un array.\n",
    "\n",
    "Puedes acceder a un elemento de un array haciendo referencia a su número de índice.\n",
    "\n",
    "Los índices en los arrays de NumPy comienzan en 0, lo que significa que el primer elemento tiene un índice 0, el segundo tiene un índice 1, y así sucesivamente."
   ]
  },
  {
   "cell_type": "markdown",
   "id": "871a1629",
   "metadata": {},
   "source": [
    "<a name='3-1'></a>\n",
    "\n",
    "## Arreglos 1-D\n",
    "[regresar al contenido](#c1)"
   ]
  },
  {
   "cell_type": "code",
   "execution_count": 24,
   "id": "a6c12ba3",
   "metadata": {},
   "outputs": [
    {
     "name": "stdout",
     "output_type": "stream",
     "text": [
      "1\n"
     ]
    }
   ],
   "source": [
    "arr = np.array([1, 2, 3, 4])\n",
    "\n",
    "print(arr[0])"
   ]
  },
  {
   "cell_type": "markdown",
   "id": "2c068b12",
   "metadata": {},
   "source": [
    "<a name='3-2'></a>\n",
    "\n",
    "## Arreglos 2-D\n",
    "[regresar al contenido](#c1)\n",
    "\n",
    "Para acceder a elementos de arrays 2-D, podemos usar enteros separados por comas que representan la dimensión y el índice del elemento.\n",
    "\n",
    "Piensa en los arrays 2-D como una tabla con filas y columnas, donde la dimensión representa la fila y el índice representa la columna."
   ]
  },
  {
   "cell_type": "code",
   "execution_count": 25,
   "id": "022ca5d5",
   "metadata": {},
   "outputs": [
    {
     "name": "stdout",
     "output_type": "stream",
     "text": [
      "2do elemento de la 1er Fila:  2\n"
     ]
    }
   ],
   "source": [
    "arr = np.array([[1,2,3,4,5], [6,7,8,9,10]])\n",
    "\n",
    "print('2do elemento de la 1er Fila: ', arr[0, 1])"
   ]
  },
  {
   "cell_type": "code",
   "execution_count": 26,
   "id": "d5da39b6",
   "metadata": {},
   "outputs": [
    {
     "name": "stdout",
     "output_type": "stream",
     "text": [
      "Quinto elemento de la 2da Fila 10\n"
     ]
    }
   ],
   "source": [
    "print('Quinto elemento de la 2da Fila', arr[1, 4])"
   ]
  },
  {
   "cell_type": "markdown",
   "id": "fab1a880",
   "metadata": {},
   "source": [
    "<a name='3-3'></a>\n",
    "\n",
    "## Arreglos 3-D\n",
    "[regresar al contenido](#c1)\n",
    "\n",
    "Para acceder a elementos de arrays 3-D, podemos usar enteros separados por comas que representan las dimensiones y el índice del elemento. Esto implica especificar la coordenada en cada dimensión para llegar al elemento deseado en el array tridimensional."
   ]
  },
  {
   "cell_type": "code",
   "execution_count": 16,
   "id": "5a5cf294",
   "metadata": {},
   "outputs": [
    {
     "name": "stdout",
     "output_type": "stream",
     "text": [
      "6\n"
     ]
    }
   ],
   "source": [
    "arr = np.array([[[1, 2, 3], [4, 5, 6]], [[7, 8, 9], [10, 11, 12]]])\n",
    "\n",
    "print(arr[0, 1, 2])"
   ]
  },
  {
   "cell_type": "markdown",
   "id": "8f298f2e",
   "metadata": {},
   "source": [
    "<a name='4'></a>\n",
    "\n",
    "# Slicing\n",
    "[regresar al contenido](#c1)\n",
    "\n",
    "El slicing en Python significa tomar elementos desde un índice dado hasta otro índice dado.\n",
    "\n",
    "Pasamos el slice en lugar del índice de esta manera: `[inicio:fin]`.\n",
    "\n",
    "También podemos definir el paso, de esta manera: `[inicio:fin:paso]`.\n",
    "\n",
    "- Si no especificamos el inicio, se considera 0.\n",
    "- Si no especificamos el fin, se considera la longitud del array en esa dimensión.\n",
    "- Si no especificamos el paso, se considera 1."
   ]
  },
  {
   "cell_type": "markdown",
   "id": "e42a3bc8",
   "metadata": {},
   "source": [
    "<a name='4-1'></a>\n",
    "\n",
    "## Arreglos 1-D\n",
    "[regresar al contenido](#c1)"
   ]
  },
  {
   "cell_type": "code",
   "execution_count": 28,
   "id": "d67dccf1",
   "metadata": {},
   "outputs": [
    {
     "name": "stdout",
     "output_type": "stream",
     "text": [
      "[2 3 4 5]\n"
     ]
    }
   ],
   "source": [
    "arr = np.array([1, 2, 3, 4, 5, 6, 7])\n",
    "\n",
    "print(arr[1:5])"
   ]
  },
  {
   "cell_type": "code",
   "execution_count": 29,
   "id": "28293789",
   "metadata": {},
   "outputs": [
    {
     "name": "stdout",
     "output_type": "stream",
     "text": [
      "[5 6 7]\n"
     ]
    }
   ],
   "source": [
    "print(arr[4:])"
   ]
  },
  {
   "cell_type": "code",
   "execution_count": 30,
   "id": "cc141216",
   "metadata": {},
   "outputs": [
    {
     "name": "stdout",
     "output_type": "stream",
     "text": [
      "[1 2 3 4]\n"
     ]
    }
   ],
   "source": [
    "print(arr[:4])"
   ]
  },
  {
   "cell_type": "code",
   "execution_count": 31,
   "id": "61601d55",
   "metadata": {},
   "outputs": [
    {
     "name": "stdout",
     "output_type": "stream",
     "text": [
      "[5 6]\n"
     ]
    }
   ],
   "source": [
    "print(arr[-3:-1])"
   ]
  },
  {
   "cell_type": "markdown",
   "id": "7ab644fb",
   "metadata": {},
   "source": [
    "<a name='4-1-1'></a>\n",
    "\n",
    "### Paso\n",
    "[regresar al contenido](#c1)\n",
    "\n",
    "> `arreglo[inicio:fin:paso]`"
   ]
  },
  {
   "cell_type": "code",
   "execution_count": 32,
   "id": "c679f34b",
   "metadata": {},
   "outputs": [
    {
     "name": "stdout",
     "output_type": "stream",
     "text": [
      "[2 4]\n"
     ]
    }
   ],
   "source": [
    "arr = np.array([1, 2, 3, 4, 5, 6, 7])\n",
    "\n",
    "print(arr[1:5:2])"
   ]
  },
  {
   "cell_type": "code",
   "execution_count": 33,
   "id": "8382b8ab",
   "metadata": {},
   "outputs": [
    {
     "name": "stdout",
     "output_type": "stream",
     "text": [
      "[1 3 5 7]\n"
     ]
    }
   ],
   "source": [
    "arr = np.array([1, 2, 3, 4, 5, 6, 7])\n",
    "\n",
    "print(arr[::2])"
   ]
  },
  {
   "cell_type": "markdown",
   "id": "014d2c2f",
   "metadata": {},
   "source": [
    "<a name='4-2'></a>\n",
    "\n",
    "## Arreglos 2-D\n",
    "[regresar al contenido](#c1)"
   ]
  },
  {
   "cell_type": "code",
   "execution_count": 34,
   "id": "d69fb410",
   "metadata": {},
   "outputs": [
    {
     "name": "stdout",
     "output_type": "stream",
     "text": [
      "[7 8 9]\n"
     ]
    }
   ],
   "source": [
    "arr = np.array([[1, 2, 3, 4, 5], [6, 7, 8, 9, 10]])\n",
    "\n",
    "print(arr[1, 1:4])"
   ]
  },
  {
   "cell_type": "code",
   "execution_count": 35,
   "id": "73f603db",
   "metadata": {},
   "outputs": [
    {
     "name": "stdout",
     "output_type": "stream",
     "text": [
      "[3 8]\n"
     ]
    }
   ],
   "source": [
    "arr = np.array([[1, 2, 3, 4, 5], [6, 7, 8, 9, 10]])\n",
    "\n",
    "print(arr[0:2, 2])"
   ]
  },
  {
   "cell_type": "code",
   "execution_count": 36,
   "id": "f059a5a0",
   "metadata": {},
   "outputs": [
    {
     "name": "stdout",
     "output_type": "stream",
     "text": [
      "[[2 3 4]\n",
      " [7 8 9]]\n"
     ]
    }
   ],
   "source": [
    "arr = np.array([[1, 2, 3, 4, 5], [6, 7, 8, 9, 10]])\n",
    "\n",
    "print(arr[0:2, 1:4])"
   ]
  },
  {
   "cell_type": "markdown",
   "id": "202b7434",
   "metadata": {},
   "source": [
    "<a name='5'></a>\n",
    "\n",
    "# Buscando en arreglos\n",
    "[regresar al contenido](#c1)\n",
    "\n",
    "Puedes buscar un valor específico en un array y obtener los índices que coinciden con ese valor.\n",
    "\n",
    "Para buscar en un array, utiliza el método `where()`. El método `where()` de NumPy te permite buscar elementos que cumplan con ciertas condiciones y devuelve los índices donde se encuentran esos elementos."
   ]
  },
  {
   "cell_type": "code",
   "execution_count": 37,
   "id": "1ea1a138",
   "metadata": {},
   "outputs": [
    {
     "name": "stdout",
     "output_type": "stream",
     "text": [
      "(array([3, 5, 6], dtype=int64),)\n"
     ]
    }
   ],
   "source": [
    "arr = np.array([1, 2, 3, 4, 5, 4, 4])\n",
    "\n",
    "x = np.where(arr == 4)\n",
    "\n",
    "print(x)"
   ]
  },
  {
   "cell_type": "code",
   "execution_count": 38,
   "id": "fc453229",
   "metadata": {},
   "outputs": [
    {
     "name": "stdout",
     "output_type": "stream",
     "text": [
      "(array([1, 3, 5, 7], dtype=int64),)\n"
     ]
    }
   ],
   "source": [
    "arr = np.array([1, 2, 3, 4, 5, 6, 7, 8])\n",
    "\n",
    "x = np.where(arr%2 == 0)\n",
    "\n",
    "print(x)"
   ]
  },
  {
   "cell_type": "markdown",
   "id": "872ad064",
   "metadata": {},
   "source": [
    "Existe un método llamado `searchsorted()` que realiza una búsqueda binaria en el array y devuelve el índice donde se insertaría el valor especificado para mantener el orden de búsqueda.\n",
    "\n",
    "Se asume que el método `searchsorted()` se utiliza en arrays ordenados, ya que se basa en la búsqueda binaria, que funciona eficientemente en datos ordenados."
   ]
  },
  {
   "cell_type": "code",
   "execution_count": 39,
   "id": "d6435014",
   "metadata": {},
   "outputs": [
    {
     "name": "stdout",
     "output_type": "stream",
     "text": [
      "1\n"
     ]
    }
   ],
   "source": [
    "arr = np.array([6, 7, 8, 9])\n",
    "\n",
    "x = np.searchsorted(arr, 7)\n",
    "\n",
    "print(x)"
   ]
  },
  {
   "cell_type": "markdown",
   "id": "9122d7de",
   "metadata": {},
   "source": [
    "De forma predeterminada, se devuelve el índice más a la izquierda al buscar un valor en un array, pero podemos especificar `side='right'` para obtener en su lugar el índice más a la derecha."
   ]
  },
  {
   "cell_type": "code",
   "execution_count": 40,
   "id": "80e59184",
   "metadata": {},
   "outputs": [
    {
     "name": "stdout",
     "output_type": "stream",
     "text": [
      "2\n"
     ]
    }
   ],
   "source": [
    "arr = np.array([6, 7, 8, 9])\n",
    "\n",
    "x = np.searchsorted(arr, 7, side='right')\n",
    "\n",
    "print(x)"
   ]
  },
  {
   "cell_type": "code",
   "execution_count": 41,
   "id": "46398bfb",
   "metadata": {},
   "outputs": [
    {
     "name": "stdout",
     "output_type": "stream",
     "text": [
      "[1 2 3]\n"
     ]
    }
   ],
   "source": [
    "arr = np.array([1, 3, 5, 7])\n",
    "\n",
    "x = np.searchsorted(arr, [2, 4, 6])\n",
    "\n",
    "print(x)"
   ]
  },
  {
   "cell_type": "markdown",
   "id": "1515cade",
   "metadata": {},
   "source": [
    "<a name='6'></a>\n",
    "\n",
    "# Filtrado\n",
    "[regresar al contenido](#c1)"
   ]
  },
  {
   "cell_type": "code",
   "execution_count": 42,
   "id": "5a5e4666",
   "metadata": {},
   "outputs": [
    {
     "name": "stdout",
     "output_type": "stream",
     "text": [
      "[False False  True  True]\n",
      "[43 44]\n"
     ]
    }
   ],
   "source": [
    "arr = np.array([41, 42, 43, 44])\n",
    "\n",
    "filter_arr = arr > 42\n",
    "\n",
    "newarr = arr[filter_arr]\n",
    "\n",
    "print(filter_arr)\n",
    "print(newarr)"
   ]
  },
  {
   "cell_type": "code",
   "execution_count": 43,
   "id": "c4c4b7a9",
   "metadata": {},
   "outputs": [
    {
     "name": "stdout",
     "output_type": "stream",
     "text": [
      "[False  True False  True False  True False]\n",
      "[2 4 6]\n"
     ]
    }
   ],
   "source": [
    "arr = np.array([1, 2, 3, 4, 5, 6, 7])\n",
    "\n",
    "filter_arr = arr % 2 == 0\n",
    "\n",
    "newarr = arr[filter_arr]\n",
    "\n",
    "print(filter_arr)\n",
    "print(newarr)"
   ]
  }
 ],
 "metadata": {
  "kernelspec": {
   "display_name": "Python 3 (ipykernel)",
   "language": "python",
   "name": "python3"
  },
  "language_info": {
   "codemirror_mode": {
    "name": "ipython",
    "version": 3
   },
   "file_extension": ".py",
   "mimetype": "text/x-python",
   "name": "python",
   "nbconvert_exporter": "python",
   "pygments_lexer": "ipython3",
   "version": "3.9.12"
  }
 },
 "nbformat": 4,
 "nbformat_minor": 5
}
