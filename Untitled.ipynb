{
 "cells": [
  {
   "cell_type": "markdown",
   "id": "678b60f4",
   "metadata": {},
   "source": [
    "<font color=\"Red\" face=\"Comic Sans MS,arial\">\n",
    "  <h1 align=\"center\"><i>Listas </i></h1>\n",
    "  </font>\n",
    "  \n",
    "> Elaborado por: Jesús Iván Coss Calderón. mat_ing_coss@ciencias.unam.mx"
   ]
  },
  {
   "cell_type": "markdown",
   "id": "4c86b49e",
   "metadata": {},
   "source": [
    "**Objetivo general**\n",
    "\n",
    "* Aprender los fundamentos de la estructura de datos conocida como listas\n",
    "\n",
    "**Objetivos particulares**\n",
    "\n",
    "* Entender los métodos de la clase list"
   ]
  },
  {
   "cell_type": "markdown",
   "id": "1cc30328",
   "metadata": {},
   "source": [
    "<a name='c1'></a>\n",
    "\n",
    "## Contenido\n",
    "\n",
    "- [Listas](#1)\n",
    "    - [Declaración](#1-1)\n",
    "    - [Tipo de dato o clase](#1-2)\n",
    "    - [Método Keys()](#1-3)\n",
    "    - [Método Values()](#1-4)\n",
    "    - [Método de acceso a elementos](#1-5)\n",
    "    - [Agregar elementos](#1-6)\n",
    "- [Ejemplo](#2)\n",
    "- [Tipos de datos en un diccionario](#3)\n",
    "- [Pasar valores de un diccionario a una lista](#4)\n",
    "- [Utilidad de los diccionarios](#5)"
   ]
  },
  {
   "cell_type": "markdown",
   "id": "e15c8737",
   "metadata": {},
   "source": [
    "<a name='1'></a>\n",
    "\n",
    "# Listas\n",
    "[regresar al contenido](#c1)\n",
    "\n",
    "En Python, las listas son estructuras de datos que te permiten almacenar y organizar múltiples elementos en un orden específico. Puedes agregar, eliminar y modificar elementos en una lista de manera flexible. Las listas son uno de los tipos de datos más utilizados y versátiles en Python"
   ]
  }
 ],
 "metadata": {
  "kernelspec": {
   "display_name": "Python 3 (ipykernel)",
   "language": "python",
   "name": "python3"
  },
  "language_info": {
   "codemirror_mode": {
    "name": "ipython",
    "version": 3
   },
   "file_extension": ".py",
   "mimetype": "text/x-python",
   "name": "python",
   "nbconvert_exporter": "python",
   "pygments_lexer": "ipython3",
   "version": "3.9.12"
  }
 },
 "nbformat": 4,
 "nbformat_minor": 5
}
