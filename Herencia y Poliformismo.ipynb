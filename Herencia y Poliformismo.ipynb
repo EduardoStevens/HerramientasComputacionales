{
 "cells": [
  {
   "cell_type": "markdown",
   "id": "0c4018bd",
   "metadata": {},
   "source": [
    "<font color=\"Red\" face=\"Comic Sans MS,arial\">\n",
    "  <h1 align=\"center\"><i>Definición y llamada a funciones </i></h1>\n",
    "  </font>\n",
    "  \n",
    "> Elaborado por: Jesús Iván Coss Calderón. mat_ing_coss@ciencias.unam.mx"
   ]
  },
  {
   "cell_type": "markdown",
   "id": "d572795c",
   "metadata": {},
   "source": [
    "**Objetivo general**\n",
    "\n",
    "* Aprender los fundamentos de la declaración de funciones\n",
    "\n",
    "**Objetivos particulares**\n",
    "\n",
    "* Entender la elaboración de funciones"
   ]
  },
  {
   "cell_type": "markdown",
   "id": "001e54d2",
   "metadata": {},
   "source": [
    "[**Regresa al notebook principal**](https://github.com/seismomat/HerramientasComputacionales/blob/main/TemarioDePython/Temario%20de%20Python.ipynb)"
   ]
  },
  {
   "cell_type": "markdown",
   "id": "b76ffc8a",
   "metadata": {},
   "source": [
    "<a name='c1'></a>\n",
    "\n",
    "## Contenido\n",
    "\n",
    "- [Funciones](#1)\n",
    "    - [Declaración](#1-1)\n",
    "    - [Llamando funciones creadas](#1-2)\n",
    "    - [Método Keys()](#1-3)\n",
    "    - [Método Values()](#1-4)\n",
    "    - [Método de acceso a elementos](#1-5)\n",
    "    - [Agregar elementos](#1-6)\n",
    "- [Ejemplo](#2)\n",
    "- [Tipos de datos en un diccionario](#3)\n",
    "- [Pasar valores de un diccionario a una lista](#4)\n",
    "- [Utilidad de los diccionarios](#5)\n",
    "- [Ejercicios propuestos](#6)"
   ]
  },
  {
   "cell_type": "markdown",
   "id": "269975e0",
   "metadata": {},
   "source": [
    "<a name='1'></a>\n",
    "\n",
    "# Herencia en Python\n",
    "[regresar al contenido](#c1)\n",
    "\n",
    "\n",
    "La herencia nos permite definir una clase que hereda todos los métodos y propiedades de otra clase.\n",
    "\n",
    "La clase padre es la clase de la que se hereda, también llamada clase base.\n",
    "\n",
    "La clase hija es la clase que hereda de otra clase, también llamada clase derivada."
   ]
  },
  {
   "cell_type": "markdown",
   "id": "fb9dfa06",
   "metadata": {},
   "source": [
    "<a name='1-1'></a>\n",
    "\n",
    "# Declaración de una clase Padre\n",
    "[regresar al contenido](#c1)\n",
    "\n",
    "Cualquier clase puede ser una clase padre, por lo que la sintaxis es la misma que al crear cualquier otra clase:"
   ]
  },
  {
   "cell_type": "code",
   "execution_count": 1,
   "id": "b516f0d1",
   "metadata": {},
   "outputs": [
    {
     "name": "stdout",
     "output_type": "stream",
     "text": [
      "John Doe\n"
     ]
    }
   ],
   "source": [
    "class Person:\n",
    "  def __init__(self, fname, lname):\n",
    "    self.firstname = fname\n",
    "    self.lastname = lname\n",
    "\n",
    "  def printname(self):\n",
    "    print(self.firstname, self.lastname)\n",
    "\n",
    "#Use the Person class to create an object, and then execute the printname method:\n",
    "\n",
    "x = Person(\"John\", \"Doe\")\n",
    "x.printname() "
   ]
  },
  {
   "cell_type": "markdown",
   "id": "afa98fb0",
   "metadata": {},
   "source": [
    "<a name='1-2'></a>\n",
    "\n",
    "# Declaración de una clase Hijo\n",
    "[regresar al contenido](#c1)\n",
    "\n",
    "Para crear una clase que herede la funcionalidad de otra clase, envía la clase padre como parámetro al crear la clase hijo:"
   ]
  },
  {
   "cell_type": "code",
   "execution_count": 2,
   "id": "82370167",
   "metadata": {},
   "outputs": [],
   "source": [
    " class Student(Person):\n",
    "  pass "
   ]
  },
  {
   "cell_type": "markdown",
   "id": "ef3caecd-24c0-4c60-93ea-527865988aa0",
   "metadata": {},
   "source": [
    "Nota: Utiliza la palabra clave \"pass\" cuando no desees agregar ninguna otra propiedad o método a la clase.\n",
    "\n",
    "Ahora, la clase Estudiante tiene las mismas propiedades y métodos que la clase Persona."
   ]
  },
  {
   "cell_type": "code",
   "execution_count": 3,
   "id": "2c144897-1568-47be-8cb9-1a66df0e396d",
   "metadata": {},
   "outputs": [
    {
     "name": "stdout",
     "output_type": "stream",
     "text": [
      "Mike Olsen\n"
     ]
    }
   ],
   "source": [
    "x = Student(\"Mike\", \"Olsen\")\n",
    "x.printname() "
   ]
  },
  {
   "cell_type": "markdown",
   "id": "d003deb7",
   "metadata": {},
   "source": [
    "<a name='2'></a>\n",
    "\n",
    "# Agregando la función __init__() \n",
    "[regresar al contenido](#c1)"
   ]
  },
  {
   "cell_type": "code",
   "execution_count": null,
   "id": "a7c7c289",
   "metadata": {},
   "outputs": [],
   "source": []
  },
  {
   "cell_type": "markdown",
   "id": "334a05cf",
   "metadata": {},
   "source": [
    "<a name='3'></a>\n",
    "\n",
    "# Diccionarios\n",
    "[regresar al contenido](#c1)"
   ]
  },
  {
   "cell_type": "markdown",
   "id": "20082363",
   "metadata": {},
   "source": [
    "<a name='4'></a>\n",
    "\n",
    "# Diccionarios\n",
    "[regresar al contenido](#c1)"
   ]
  },
  {
   "cell_type": "markdown",
   "id": "202b7434",
   "metadata": {},
   "source": [
    "<a name='6'></a>\n",
    "\n",
    "# Ejercicios propuestos\n",
    "[regresar al contenido](#c1)"
   ]
  },
  {
   "cell_type": "markdown",
   "id": "7739c210",
   "metadata": {},
   "source": [
    "Propuestas de ejercicios para practicar con diccionarios en Python:\n",
    "\n",
    "1. **Contador de Palabras**: Escribe un programa que cuente cuántas veces aparece cada palabra en una frase y almacene los resultados en un diccionario.\n",
    "\n",
    "2. **Gestión de Inventario**: Crea un programa que simule la gestión de inventario de una tienda. Puedes agregar y restar cantidades de productos utilizando diccionarios.\n",
    "\n",
    "3. **Diccionario Invertido**: Escribe una función que tome un diccionario como entrada y genere un nuevo diccionario donde las claves sean los valores del diccionario original y los valores sean las claves.\n",
    "\n",
    "4. **Contar Caracteres**: Crea una función que tome una cadena como entrada y devuelva un diccionario que cuente la cantidad de veces que aparece cada caracter.\n",
    "\n",
    "5. **Unión de Diccionarios**: Implementa una función que tome dos diccionarios y los combine en uno solo. Si hay claves repetidas, suma los valores.\n",
    "\n",
    "6. **Máximo Valor en Diccionario**: Escribe una función que encuentre la clave asociada al valor máximo en un diccionario de números.\n",
    "\n",
    "7. **Modificar Valores**: Crea un programa que permita al usuario modificar los valores de un diccionario de información personal.\n",
    "\n",
    "8. **Cálculo de Notas**: Crea un programa que calcule el promedio de calificaciones de estudiantes y los almacene en un diccionario con sus nombres.\n",
    "\n",
    "9. **Análisis de Texto**: Escribe una función que tome un texto como entrada y genere un diccionario con las palabras únicas y la cantidad de veces que aparece cada una.\n",
    "\n",
    "10. **Diccionario de Palabras Anidadas**: Crea un diccionario que contenga información sobre diferentes países, como sus ciudades y poblaciones. Puedes anidar diccionarios dentro de otros diccionarios.\n",
    "\n",
    "11. **Contador de Letras**: Escribe un programa que cuente cuántas veces aparece cada letra en una cadena y almacene los resultados en un diccionario.\n",
    "\n",
    "12. **Traductor Simple**: Crea un programa que funcione como un traductor simple, utilizando un diccionario para mapear palabras en un idioma a otro.\n",
    "\n",
    "13. **Estadísticas de Palabras**: Implementa una función que tome un párrafo como entrada y genere un diccionario con estadísticas sobre las palabras (número de letras, número de vocales, etc.).\n",
    "\n",
    "14. **Eliminación de Duplicados**: Escribe un programa que tome una lista y elimine los elementos duplicados, utilizando un diccionario para rastrear elementos únicos.\n",
    "\n",
    "15. **Contador de Elementos**: Crea una función que tome una lista y genere un diccionario que cuente cuántas veces aparece cada elemento.\n",
    "\n",
    "Estos ejercicios te brindarán la oportunidad de practicar y familiarizarte con la manipulación y uso de diccionarios en Python. ¡Disfruta resolviéndolos!"
   ]
  },
  {
   "cell_type": "code",
   "execution_count": null,
   "id": "ef5b266e",
   "metadata": {},
   "outputs": [],
   "source": []
  }
 ],
 "metadata": {
  "kernelspec": {
   "display_name": "Python 3 (ipykernel)",
   "language": "python",
   "name": "python3"
  },
  "language_info": {
   "codemirror_mode": {
    "name": "ipython",
    "version": 3
   },
   "file_extension": ".py",
   "mimetype": "text/x-python",
   "name": "python",
   "nbconvert_exporter": "python",
   "pygments_lexer": "ipython3",
   "version": "3.11.4"
  }
 },
 "nbformat": 4,
 "nbformat_minor": 5
}
