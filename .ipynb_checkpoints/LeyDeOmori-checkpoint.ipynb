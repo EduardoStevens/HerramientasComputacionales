{
 "cells": [
  {
   "cell_type": "code",
   "execution_count": 33,
   "id": "91ebe42d",
   "metadata": {},
   "outputs": [],
   "source": [
    "import pandas as pd"
   ]
  },
  {
   "cell_type": "code",
   "execution_count": 57,
   "id": "82a238aa",
   "metadata": {},
   "outputs": [
    {
     "name": "stdout",
     "output_type": "stream",
     "text": [
      "        Fecha      Hora  Magnitud  Latitud  Longitud  Profundidad  \\\n",
      "0  07/09/2017  01:47:09       3.6  16.3888  -98.2148         29.7   \n",
      "1  07/09/2017  02:05:25       4.7  14.8583  -94.1578         24.8   \n",
      "\n",
      "                    Referencia de localizacion   Fecha UTC  Hora UTC   Estatus  \n",
      "0  18 km al NOROESTE de PINOTEPA NACIONAL, OAX  07/09/2017  06:47:09  revisado  \n",
      "1       137 km al SUROESTE de PIJIJIAPAN, CHIS  07/09/2017  07:05:25  revisado  \n"
     ]
    }
   ],
   "source": [
    "url = 'sismos.csv'\n",
    "url='https://github.com/seismomat/HerramientasComputacionales/blob/main/sismos.csv?raw=true'\n",
    "df = pd.read_csv(url,sep=',')\n",
    "#df = pd.read_csv(url, index_col=0,sep=';')\n",
    "print(df.head(2))"
   ]
  },
  {
   "cell_type": "code",
   "execution_count": 58,
   "id": "1174afd3",
   "metadata": {},
   "outputs": [
    {
     "data": {
      "text/plain": [
       "Fecha                                                          07/09/2017\n",
       "Hora                                                             01:47:09\n",
       "Magnitud                                                              3.6\n",
       "Latitud                                                           16.3888\n",
       "Longitud                                                         -98.2148\n",
       "Profundidad                                                          29.7\n",
       "Referencia de localizacion    18 km al NOROESTE de PINOTEPA NACIONAL, OAX\n",
       "Fecha UTC                                                      07/09/2017\n",
       "Hora UTC                                                         06:47:09\n",
       "Estatus                                                          revisado\n",
       "Name: 0, dtype: object"
      ]
     },
     "execution_count": 58,
     "metadata": {},
     "output_type": "execute_result"
    }
   ],
   "source": [
    "df.iloc[0]"
   ]
  },
  {
   "cell_type": "code",
   "execution_count": 51,
   "id": "9aec67e6",
   "metadata": {},
   "outputs": [
    {
     "data": {
      "text/plain": [
       "0       3.6\n",
       "1       4.7\n",
       "2       4.2\n",
       "3       4.0\n",
       "4       3.0\n",
       "       ... \n",
       "2359    3.8\n",
       "2360    3.7\n",
       "2361    4.2\n",
       "2362    3.0\n",
       "2363    4.3\n",
       "Name: Magnitud, Length: 2364, dtype: float64"
      ]
     },
     "execution_count": 51,
     "metadata": {},
     "output_type": "execute_result"
    }
   ],
   "source": [
    "df[\"Magnitud\"]"
   ]
  },
  {
   "cell_type": "code",
   "execution_count": null,
   "id": "deeb621a",
   "metadata": {},
   "outputs": [],
   "source": []
  }
 ],
 "metadata": {
  "kernelspec": {
   "display_name": "Python 3 (ipykernel)",
   "language": "python",
   "name": "python3"
  },
  "language_info": {
   "codemirror_mode": {
    "name": "ipython",
    "version": 3
   },
   "file_extension": ".py",
   "mimetype": "text/x-python",
   "name": "python",
   "nbconvert_exporter": "python",
   "pygments_lexer": "ipython3",
   "version": "3.9.12"
  }
 },
 "nbformat": 4,
 "nbformat_minor": 5
}
