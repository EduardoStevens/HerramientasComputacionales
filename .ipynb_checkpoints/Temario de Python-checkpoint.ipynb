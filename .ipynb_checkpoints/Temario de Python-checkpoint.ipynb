{
 "cells": [
  {
   "cell_type": "markdown",
   "id": "83b5c1b4",
   "metadata": {},
   "source": [
    "<font color=\"Teal\" face=\"Comic Sans MS,arial\">\n",
    "  <h1 align=\"center\"><i>Tutorial de Python </i></h1>\n",
    "  </font>\n",
    "  \n",
    "> Elaborado por: Jesús Iván Coss Calderón. mat_ing_coss@ciencias.unam.mx"
   ]
  },
  {
   "cell_type": "markdown",
   "id": "e6b62f60",
   "metadata": {},
   "source": [
    "**Objetivo general**\n",
    "\n",
    "* Aprender los fundamentos del lenguaje de programación python.\n",
    "\n",
    "**Objetivos particulares**\n",
    "\n",
    "* Que el estudiante aprenda los principios básicos de la programación estructurada y orientada a objetos"
   ]
  },
  {
   "cell_type": "markdown",
   "id": "9593e3fb",
   "metadata": {},
   "source": [
    "<a name='c1'></a>\n",
    "\n",
    "## Contenido\n",
    "\n",
    "\n",
    "**Nivel Básico:**\n",
    "\n",
    "1. Introducción a Python\n",
    "   - ¿Qué es Python?\n",
    "   - Instalación y configuración del entorno de desarrollo.\n",
    "\n",
    "2. Fundamentos de Programación\n",
    "   - Variables\n",
    "   - [Sintaxis, comentarios y tipos de datos](https://github.com/seismomat/HerramientasComputacionales/blob/main/Sintaxis%2Ccomentarios%2CTiposDeDatos.ipynb)\n",
    "   - [Operadores aritméticos y de comparación.](https://github.com/seismomat/HerramientasComputacionales/blob/main/Operadores%20aritm%C3%A9ticos%20y%20de%20comparaci%C3%B3n.ipynb)\n",
    "   - [Estructuras de control: if, elif, else.](https://github.com/seismomat/HerramientasComputacionales/blob/main/Estructuras%20de%20control%20if%2C%20elif%2C%20else.ipynb)\n",
    "   - Bucles: while y for.\n",
    "\n",
    "3. Estructuras de Datos Fundamentales\n",
    "   - [Listas](https://github.com/seismomat/HerramientasComputacionales/blob/main/Listas.ipynb)\n",
    "   - Tuplas.\n",
    "   - [Conjuntos](https://github.com/seismomat/HerramientasComputacionales/blob/main/Conjuntos.ipynb)\n",
    "   - [Diccionarios](https://github.com/seismomat/HerramientasComputacionales/blob/main/Diccionarios.ipynb)\n",
    "   - Cadenas\n",
    "\n",
    "4. Funciones\n",
    "   - Definición y llamada a funciones.\n",
    "   - Parámetros y argumentos.\n",
    "   - Retorno de valores.\n",
    "   - Funciones predefinidas y creación de funciones propias.\n"
   ]
  },
  {
   "cell_type": "markdown",
   "id": "5b9b0e7a",
   "metadata": {},
   "source": [
    "**Nivel Intermedio:**\n",
    "\n",
    "5. Trabajo con Archivos\n",
    "   - Lectura y escritura de archivos de texto.\n",
    "   - Manejo de excepciones.\n",
    "\n",
    "6. Módulos y Bibliotecas\n",
    "   - Importación y uso de módulos.\n",
    "   - Introducción a bibliotecas populares: math, random, datetime.\n",
    "\n",
    "7. Programación Orientada a Objetos (POO)\n",
    "   - Clases y objetos.\n",
    "   - Atributos y métodos.\n",
    "   - Herencia y polimorfismo.\n",
    "\n",
    "8. Manipulación de Cadenas\n",
    "   - Operaciones básicas con cadenas.\n",
    "   - Formateo de cadenas.\n",
    "   - Expresiones regulares básicas.\n",
    "\n",
    "9. Manejo de Errores y Excepciones\n",
    "   - Tipos de excepciones y manejo de errores.\n",
    "   - Bloques try-except.\n",
    "   - Lanzamiento de excepciones personalizadas."
   ]
  },
  {
   "cell_type": "markdown",
   "id": "e223fe8e",
   "metadata": {},
   "source": [
    "**Nivel Avanzado:**\n",
    "\n",
    "10. Gestión de Datos\n",
    "    - Introducción a bases de datos con SQLite.\n",
    "    - Consultas SQL básicas.\n",
    "\n",
    "11. Programación Funcional\n",
    "    - Funciones lambda.\n",
    "    - Funciones map, filter y reduce.\n",
    "    - Comprensión de listas y generadores.\n",
    "\n",
    "12. Desarrollo de Aplicaciones de Consola\n",
    "    - Estructura de una aplicación.\n",
    "    - Interacción con el usuario.\n",
    "    - Organización del código en módulos.\n",
    "\n",
    "13. Introducción a la Interfaz Gráfica (GUI)\n",
    "    - Conceptos básicos de GUI.\n",
    "    - Introducción a bibliotecas como Tkinter.\n",
    "\n",
    "14. Introducción a Web Scraping\n",
    "    - Bibliotecas como BeautifulSoup y Requests.\n",
    "    - Extracción de datos de páginas web.\n"
   ]
  }
 ],
 "metadata": {
  "kernelspec": {
   "display_name": "Python 3 (ipykernel)",
   "language": "python",
   "name": "python3"
  },
  "language_info": {
   "codemirror_mode": {
    "name": "ipython",
    "version": 3
   },
   "file_extension": ".py",
   "mimetype": "text/x-python",
   "name": "python",
   "nbconvert_exporter": "python",
   "pygments_lexer": "ipython3",
   "version": "3.9.12"
  }
 },
 "nbformat": 4,
 "nbformat_minor": 5
}
