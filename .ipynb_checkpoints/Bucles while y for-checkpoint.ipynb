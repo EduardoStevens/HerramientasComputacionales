{
 "cells": [
  {
   "cell_type": "markdown",
   "id": "0c4018bd",
   "metadata": {},
   "source": [
    "<font color=\"Red\" face=\"Comic Sans MS,arial\">\n",
    "  <h1 align=\"center\"><i>Bucles: while y for </i></h1>\n",
    "  </font>\n",
    "  \n",
    "> Elaborado por: Jesús Iván Coss Calderón. mat_ing_coss@ciencias.unam.mx"
   ]
  },
  {
   "cell_type": "markdown",
   "id": "d572795c",
   "metadata": {},
   "source": [
    "**Objetivo general**\n",
    "\n",
    "* Aprender los fundamentos de la estructura de control conocidas como While y For\n",
    "\n",
    "**Objetivos particulares**\n",
    "\n",
    "* Entender la aplicación de los bucles While y For"
   ]
  },
  {
   "cell_type": "markdown",
   "id": "001e54d2",
   "metadata": {},
   "source": [
    "[**Regresa al notebook principal**](https://github.com/seismomat/HerramientasComputacionales/blob/main/Sintaxis%2Ccomentarios%2CTiposDeDatos.ipynb)"
   ]
  },
  {
   "cell_type": "markdown",
   "id": "b76ffc8a",
   "metadata": {},
   "source": [
    "<a name='c1'></a>\n",
    "\n",
    "## Contenido\n",
    "\n",
    "- [Ciclo While](#1)\n",
    "    - [Ejemplo de ciclo While](#1-1)\n",
    "    - [Ejemplo de ciclo While not](#1-2)\n",
    "    - [Sentencia else](#1-3)\n",
    "- [Ejercicio](#2)\n",
    "- [Ciclo For](#3)\n",
    "    - [Ejemplos](#3-1)\n",
    "- [Sentencia break](#4)\n",
    "- [Sentencia continue](#5)\n",
    "- [Ejercicios propuestos](#6)"
   ]
  },
  {
   "cell_type": "markdown",
   "id": "269975e0",
   "metadata": {},
   "source": [
    "<a name='1'></a>\n",
    "\n",
    "# Ciclo While\n",
    "[regresar al contenido](#c1)\n",
    "\n",
    "El ciclo while en Python es una estructura de control que permite repetir un bloque de código mientras una condición sea verdadera. La sintaxis básica del ciclo **while** es la siguiente:"
   ]
  },
  {
   "cell_type": "markdown",
   "id": "1e922707",
   "metadata": {},
   "source": [
    "while condicion:\n",
    "    # Código a ejecutar mientras la condición sea verdadera"
   ]
  },
  {
   "cell_type": "markdown",
   "id": "1ed05202",
   "metadata": {},
   "source": [
    "En inglés, << while >> significa << mientras >>. La sentencia while permite expresar en Python acciones cuyo significado es:\n",
    "<< Mientras se cumpla esta condición, repite estas acciones.>>"
   ]
  },
  {
   "cell_type": "markdown",
   "id": "fb9dfa06",
   "metadata": {},
   "source": [
    "<a name='1-1'></a>\n",
    "\n",
    "## Ejemplo de ciclo While\n",
    "[regresar al contenido](#c1)"
   ]
  },
  {
   "cell_type": "code",
   "execution_count": 3,
   "id": "e8b76986",
   "metadata": {},
   "outputs": [
    {
     "name": "stdout",
     "output_type": "stream",
     "text": [
      "0\n",
      "1\n",
      "2\n",
      "3\n",
      "4\n",
      "5\n"
     ]
    }
   ],
   "source": [
    "cuentas = 0\n",
    "while cuentas < 6:\n",
    "    print(cuentas)\n",
    "    cuentas = cuentas + 1"
   ]
  },
  {
   "cell_type": "markdown",
   "id": "0dac7983",
   "metadata": {},
   "source": [
    "<a name='1-2'></a>\n",
    "\n",
    "## Ejemplo de ciclo While not\n",
    "[regresar al contenido](#c1)"
   ]
  },
  {
   "cell_type": "code",
   "execution_count": 4,
   "id": "9f11f8af",
   "metadata": {},
   "outputs": [
    {
     "name": "stdout",
     "output_type": "stream",
     "text": [
      "x = 1\n",
      "x = 2\n",
      "x = 3\n",
      "x = 4\n",
      "x = 5\n"
     ]
    }
   ],
   "source": [
    "x = 0\n",
    "while not x == 5:\n",
    "    x = x + 1\n",
    "    print(\"x = %d\" % x)"
   ]
  },
  {
   "cell_type": "markdown",
   "id": "4a1efc57",
   "metadata": {},
   "source": [
    "<a name='1-3'></a>\n",
    "\n",
    "## Sentencia else\n",
    "[regresar al contenido](#c1)"
   ]
  },
  {
   "cell_type": "code",
   "execution_count": 9,
   "id": "041f1595",
   "metadata": {},
   "outputs": [
    {
     "name": "stdout",
     "output_type": "stream",
     "text": [
      "1\n",
      "2\n",
      "3\n",
      "4\n",
      "5\n",
      "i is no longer less than 6\n"
     ]
    }
   ],
   "source": [
    "i = 1\n",
    "while i < 6:\n",
    "  print(i)\n",
    "  i += 1\n",
    "else:\n",
    "  print(\"i is no longer less than 6\")"
   ]
  },
  {
   "cell_type": "markdown",
   "id": "d003deb7",
   "metadata": {},
   "source": [
    "<a name='2'></a>\n",
    "\n",
    "# Ejercicio\n",
    "[regresar al contenido](#c1)"
   ]
  },
  {
   "cell_type": "code",
   "execution_count": 5,
   "id": "b698126a",
   "metadata": {},
   "outputs": [
    {
     "name": "stdout",
     "output_type": "stream",
     "text": [
      "1\n",
      "1\n",
      "2\n",
      "3\n",
      "5\n",
      "8\n",
      "13\n",
      "21\n",
      "34\n",
      "55\n",
      "89\n"
     ]
    }
   ],
   "source": [
    "# Generar una secuencia de Fibonacci\n",
    "a, b = 0, 1\n",
    "while b < 100:\n",
    "    print(b)\n",
    "    a, b = b, a + b"
   ]
  },
  {
   "cell_type": "markdown",
   "id": "334a05cf",
   "metadata": {},
   "source": [
    "<a name='3'></a>\n",
    "\n",
    "# Ciclo For\n",
    "[regresar al contenido](#c1)"
   ]
  },
  {
   "cell_type": "markdown",
   "id": "c76b3126",
   "metadata": {},
   "source": [
    "Un bucle **for** se utiliza para iterar sobre una secuencia (que puede ser una lista, una tupla, un diccionario, un conjunto o una cadena).\n",
    "\n",
    "Esto es menos similar a la palabra clave **for** en otros lenguajes de programación y funciona más como un método iterador como se encuentra en otros lenguajes de programación orientados a objetos.\n",
    "\n",
    "Con el bucle **for**, podemos ejecutar un conjunto de declaraciones, una vez para cada elemento en una lista, tupla, conjunto, etc."
   ]
  },
  {
   "cell_type": "markdown",
   "id": "6d467241",
   "metadata": {},
   "source": [
    "El bucle for-in, que se puede leer como << para todo elemento de una serie, hacer. . . >>. Un bucle for-in presenta el siguiente aspecto:"
   ]
  },
  {
   "cell_type": "markdown",
   "id": "20082363",
   "metadata": {},
   "source": [
    "<a name='3-1'></a>\n",
    "\n",
    "## Ejemplos\n",
    "[regresar al contenido](#c1)"
   ]
  },
  {
   "cell_type": "code",
   "execution_count": 6,
   "id": "d71ea7c6",
   "metadata": {},
   "outputs": [
    {
     "name": "stdout",
     "output_type": "stream",
     "text": [
      "apple\n",
      "banana\n",
      "cherry\n"
     ]
    }
   ],
   "source": [
    "fruits = [\"apple\", \"banana\", \"cherry\"]\n",
    "for x in fruits:\n",
    "  print(x)"
   ]
  },
  {
   "cell_type": "code",
   "execution_count": 7,
   "id": "cc802d2e",
   "metadata": {},
   "outputs": [
    {
     "name": "stdout",
     "output_type": "stream",
     "text": [
      "0\n",
      "1\n",
      "2\n",
      "3\n",
      "4\n",
      "5\n"
     ]
    }
   ],
   "source": [
    "for x in range(6):\n",
    "  print(x)"
   ]
  },
  {
   "cell_type": "markdown",
   "id": "08ab73af",
   "metadata": {},
   "source": [
    "<a name='4'></a>\n",
    "\n",
    "# Sentencia break\n",
    "[regresar al contenido](#c1)"
   ]
  },
  {
   "cell_type": "code",
   "execution_count": null,
   "id": "f2f9cf0f",
   "metadata": {},
   "outputs": [],
   "source": [
    "fruits = [\"apple\", \"banana\", \"cherry\"]\n",
    "for x in fruits:\n",
    "  print(x)\n",
    "  if x == \"banana\":\n",
    "    break"
   ]
  },
  {
   "cell_type": "code",
   "execution_count": 8,
   "id": "a245c587",
   "metadata": {},
   "outputs": [
    {
     "name": "stdout",
     "output_type": "stream",
     "text": [
      "1\n",
      "2\n",
      "3\n"
     ]
    }
   ],
   "source": [
    "i = 1\n",
    "while i < 6:\n",
    "  print(i)\n",
    "  if i == 3:\n",
    "    break\n",
    "  i += 1"
   ]
  },
  {
   "cell_type": "markdown",
   "id": "98c4d4c7",
   "metadata": {},
   "source": [
    "<a name='5'></a>\n",
    "\n",
    "# Sentencia continue\n",
    "[regresar al contenido](#c1)"
   ]
  },
  {
   "cell_type": "code",
   "execution_count": 12,
   "id": "98cf327a",
   "metadata": {},
   "outputs": [
    {
     "name": "stdout",
     "output_type": "stream",
     "text": [
      "apple\n",
      "cherry\n"
     ]
    }
   ],
   "source": [
    "fruits = [\"apple\", \"banana\", \"cherry\"]\n",
    "for x in fruits:\n",
    "  if x == \"banana\":\n",
    "    continue\n",
    "  print(x)"
   ]
  },
  {
   "cell_type": "code",
   "execution_count": 13,
   "id": "e214167a",
   "metadata": {},
   "outputs": [
    {
     "name": "stdout",
     "output_type": "stream",
     "text": [
      "1\n",
      "2\n",
      "4\n",
      "5\n",
      "6\n"
     ]
    }
   ],
   "source": [
    "i = 0\n",
    "while i < 6:\n",
    "  i += 1\n",
    "  if i == 3:\n",
    "    continue\n",
    "  print(i)"
   ]
  },
  {
   "cell_type": "markdown",
   "id": "202b7434",
   "metadata": {},
   "source": [
    "<a name='6'></a>\n",
    "\n",
    "# Ejercicios propuestos\n",
    "[regresar al contenido](#c1)"
   ]
  },
  {
   "cell_type": "markdown",
   "id": "7739c210",
   "metadata": {},
   "source": [
    "Propuestas de ejercicios\n",
    "\n",
    "**Ciclo `for` Ejercicios:**\n",
    "\n",
    "1. Imprimir los números del 1 al 10.\n",
    "2. Calcular la suma de los primeros 50 números naturales.\n",
    "3. Imprimir los elementos de una lista.\n",
    "4. Imprimir los caracteres de una cadena.\n",
    "5. Calcular el factorial de un número dado.\n",
    "6. Imprimir los números pares entre 1 y 100.\n",
    "7. Imprimir los elementos de un diccionario.\n",
    "8. Imprimir los elementos de un conjunto.\n",
    "9. Generar una lista de números y calcular su suma, promedio y máximo utilizando un bucle `for`.\n",
    "10. Imprimir la tabla de multiplicar de un número dado.\n",
    "\n",
    "**Ciclo `while` Ejercicios:**\n",
    "\n",
    "1. Calcular la suma de los números impares del 1 al 50.\n",
    "2. Realizar un juego de adivinanza donde el usuario debe adivinar un número secreto.\n",
    "3. Imprimir los múltiplos de 3 menores que 100 utilizando un bucle `while`.\n",
    "4. Realizar un contador regresivo desde 10 hasta 1.\n",
    "5. Calcular la suma de los dígitos de un número dado.\n",
    "6. Imprimir los números primos menores que 100 utilizando un bucle `while`.\n",
    "7. Calcular el producto de dos números enteros sin usar el operador de multiplicación (*).\n",
    "8. Implementar una calculadora simple que realice operaciones básicas (+, -, *, /) usando un bucle `while`.\n",
    "9. Imprimir los caracteres de una cadena en orden inverso.\n",
    "10. Generar una secuencia de Fibonacci hasta un número dado.\n",
    "\n",
    "Recuerda que estos ejercicios son solo ejemplos y puedes ajustarlos según tus necesidades y nivel de conocimiento en programación. ¡Diviértete practicando!"
   ]
  }
 ],
 "metadata": {
  "kernelspec": {
   "display_name": "Python 3 (ipykernel)",
   "language": "python",
   "name": "python3"
  },
  "language_info": {
   "codemirror_mode": {
    "name": "ipython",
    "version": 3
   },
   "file_extension": ".py",
   "mimetype": "text/x-python",
   "name": "python",
   "nbconvert_exporter": "python",
   "pygments_lexer": "ipython3",
   "version": "3.9.12"
  }
 },
 "nbformat": 4,
 "nbformat_minor": 5
}
