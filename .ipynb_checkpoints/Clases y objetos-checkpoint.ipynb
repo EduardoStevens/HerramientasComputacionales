{
 "cells": [
  {
   "cell_type": "markdown",
   "id": "0c4018bd",
   "metadata": {},
   "source": [
    "<font color=\"Red\" face=\"Comic Sans MS,arial\">\n",
    "  <h1 align=\"center\"><i>Clases y objetos </i></h1>\n",
    "  </font>\n",
    "  \n",
    "> Elaborado por: Jesús Iván Coss Calderón. mat_ing_coss@ciencias.unam.mx"
   ]
  },
  {
   "cell_type": "markdown",
   "id": "d572795c",
   "metadata": {},
   "source": [
    "**Objetivo general**\n",
    "\n",
    "* Aprender los fundamentos de las clases\n",
    "\n",
    "**Objetivos particulares**\n",
    "\n",
    "* Entender la elaboración de métodos"
   ]
  },
  {
   "cell_type": "markdown",
   "id": "001e54d2",
   "metadata": {},
   "source": [
    "[**Regresa al notebook principal**](https://github.com/seismomat/HerramientasComputacionales/blob/main/TemarioDePython/Temario%20de%20Python.ipynb)"
   ]
  },
  {
   "cell_type": "markdown",
   "id": "b76ffc8a",
   "metadata": {},
   "source": [
    "<a name='c1'></a>\n",
    "\n",
    "## Contenido\n",
    "\n",
    "- [Clases](#1)\n",
    "    - [Creando una clase](#1-1)\n",
    "    - [Creando un objeto](#1-2)\n",
    "- [La función __init__()](#2)\n",
    "    - [La función  __str__()](#2-1)\n",
    "- [Métodos en los objetos](#3)\n",
    "- [Parámetro self](#4)\n",
    "    - [Modificando propiedades del objeto](#4-1)\n",
    "    - [Borrando propiedades del objeto](#4-2)\n",
    "    - [Borrando objetos](#4-3)\n",
    "- [Pass](#5)"
   ]
  },
  {
   "cell_type": "markdown",
   "id": "269975e0",
   "metadata": {},
   "source": [
    "<a name='1'></a>\n",
    "\n",
    "# Clases\n",
    "[regresar al contenido](#c1)\n",
    "\n",
    "Python es un lenguaje de programación orientado a objetos.\n",
    "\n",
    "Casi todo en Python es un objeto, con sus propiedades y métodos.\n",
    "\n",
    "Una clase es como un constructor de objetos, o un \"plano\" para crear objetos."
   ]
  },
  {
   "cell_type": "markdown",
   "id": "fb9dfa06",
   "metadata": {},
   "source": [
    "<a name='1-1'></a>\n",
    "\n",
    "# Creando una clase\n",
    "[regresar al contenido](#c1)\n",
    "\n",
    "Para crear una clase, utiliza la palabra clave `class`."
   ]
  },
  {
   "cell_type": "code",
   "execution_count": 1,
   "id": "b516f0d1",
   "metadata": {},
   "outputs": [],
   "source": [
    "class MyClass:\n",
    "  x = 5"
   ]
  },
  {
   "cell_type": "markdown",
   "id": "afa98fb0",
   "metadata": {},
   "source": [
    "<a name='1-2'></a>\n",
    "\n",
    "# Creando un objeto\n",
    "[regresar al contenido](#c1)\n",
    "\n",
    "Ahora podemos usar la clase llamada `MyClass` para crear objetos."
   ]
  },
  {
   "cell_type": "code",
   "execution_count": 2,
   "id": "82370167",
   "metadata": {},
   "outputs": [
    {
     "name": "stdout",
     "output_type": "stream",
     "text": [
      "5\n"
     ]
    }
   ],
   "source": [
    "p1 = MyClass()\n",
    "print(p1.x)"
   ]
  },
  {
   "cell_type": "markdown",
   "id": "d003deb7",
   "metadata": {},
   "source": [
    "<a name='2'></a>\n",
    "\n",
    "# La función __init__()\n",
    "[regresar al contenido](#c1)\n",
    "\n",
    "Los ejemplos anteriores son clases y objetos en su forma más simple y no son realmente útiles en aplicaciones de la vida real.\n",
    "\n",
    "Para entender el significado de las clases, debemos entender la función incorporada `__init__()`.\n",
    "\n",
    "Todas las clases tienen una función llamada `__init__()`, que siempre se ejecuta cuando se está iniciando la clase.\n",
    "\n",
    "Usa la función `__init__()` para asignar valores a las propiedades del objeto u otras operaciones que sean necesarias cuando se crea el objeto."
   ]
  },
  {
   "cell_type": "code",
   "execution_count": 3,
   "id": "a7c7c289",
   "metadata": {},
   "outputs": [
    {
     "name": "stdout",
     "output_type": "stream",
     "text": [
      "John\n",
      "36\n"
     ]
    }
   ],
   "source": [
    "class Person:\n",
    "  def __init__(self, name, age):\n",
    "    self.name = name\n",
    "    self.age = age\n",
    "\n",
    "p1 = Person(\"John\", 36)\n",
    "\n",
    "print(p1.name)\n",
    "print(p1.age)"
   ]
  },
  {
   "cell_type": "markdown",
   "id": "bb50df5b",
   "metadata": {},
   "source": [
    "<a name='2-1'></a>\n",
    "\n",
    "# La función  __str__()\n",
    "[regresar al contenido](#c1)\n",
    "\n",
    "La función `__str__()` controla lo que debe devolverse cuando el objeto de la clase se representa como una cadena.\n",
    "\n",
    "Si la función `__str__()` no se establece, se devuelve la representación en cadena predeterminada del objeto."
   ]
  },
  {
   "cell_type": "markdown",
   "id": "7118cd5f",
   "metadata": {},
   "source": [
    "La representación en cadena de un objeto SIN la función `__str__()`:"
   ]
  },
  {
   "cell_type": "code",
   "execution_count": 4,
   "id": "33278e9b",
   "metadata": {},
   "outputs": [
    {
     "name": "stdout",
     "output_type": "stream",
     "text": [
      "<__main__.Person object at 0x000002EE28264D00>\n"
     ]
    }
   ],
   "source": [
    "class Person:\n",
    "  def __init__(self, name, age):\n",
    "    self.name = name\n",
    "    self.age = age\n",
    "\n",
    "p1 = Person(\"John\", 36)\n",
    "\n",
    "print(p1)"
   ]
  },
  {
   "cell_type": "markdown",
   "id": "1c4bbae2",
   "metadata": {},
   "source": [
    "La representación en cadena de un objeto CON la función `__str__()`:"
   ]
  },
  {
   "cell_type": "code",
   "execution_count": 5,
   "id": "69d9c07a",
   "metadata": {},
   "outputs": [
    {
     "name": "stdout",
     "output_type": "stream",
     "text": [
      "John(36)\n"
     ]
    }
   ],
   "source": [
    "class Person:\n",
    "  def __init__(self, name, age):\n",
    "    self.name = name\n",
    "    self.age = age\n",
    "\n",
    "  def __str__(self):\n",
    "    return f\"{self.name}({self.age})\"\n",
    "\n",
    "p1 = Person(\"John\", 36)\n",
    "\n",
    "print(p1)"
   ]
  },
  {
   "cell_type": "code",
   "execution_count": 6,
   "id": "c56b86bf",
   "metadata": {},
   "outputs": [
    {
     "name": "stdout",
     "output_type": "stream",
     "text": [
      "Hello my name is John\n"
     ]
    }
   ],
   "source": [
    "class Person:\n",
    "  def __init__(self, name, age):\n",
    "    self.name = name\n",
    "    self.age = age\n",
    "\n",
    "  def myfunc(self):\n",
    "    print(\"Hello my name is \" + self.name)\n",
    "\n",
    "p1 = Person(\"John\", 36)\n",
    "p1.myfunc()"
   ]
  },
  {
   "cell_type": "markdown",
   "id": "334a05cf",
   "metadata": {},
   "source": [
    "<a name='3'></a>\n",
    "\n",
    "# Métodos en los objetos\n",
    "[regresar al contenido](#c1)\n",
    "\n",
    "Los objetos también pueden contener métodos. Los métodos en los objetos son funciones que pertenecen al objeto.\n",
    "\n",
    "Creemos un método en la clase `Person` (Persona)."
   ]
  },
  {
   "cell_type": "code",
   "execution_count": 7,
   "id": "42ee0da7",
   "metadata": {},
   "outputs": [
    {
     "name": "stdout",
     "output_type": "stream",
     "text": [
      "Hello my name is John\n"
     ]
    }
   ],
   "source": [
    "class Person:\n",
    "  def __init__(self, name, age):\n",
    "    self.name = name\n",
    "    self.age = age\n",
    "\n",
    "  def myfunc(self):\n",
    "    print(\"Hello my name is \" + self.name)\n",
    "\n",
    "p1 = Person(\"John\", 36)\n",
    "p1.myfunc()"
   ]
  },
  {
   "cell_type": "markdown",
   "id": "ef95df10",
   "metadata": {},
   "source": [
    "En la programación orientada a objetos, tanto los atributos como los métodos son miembros de una clase, pero tienen diferentes propósitos y comportamientos:\n",
    "\n",
    "1. **Atributos**: Los atributos son variables que almacenan datos relacionados con el objeto. Representan las características o propiedades del objeto. Los atributos describen el estado de un objeto y son como sustantivos en el lenguaje natural. Por ejemplo, en una clase `Persona`, los atributos podrían ser `nombre`, `edad`, `género`, etc. Los atributos se definen en la clase y se asocian a cada instancia del objeto.\n",
    "\n",
    "2. **Métodos**: Los métodos son funciones que están definidas dentro de una clase y operan en los atributos y datos del objeto. Representan el comportamiento o las acciones que el objeto puede realizar. Los métodos describen lo que el objeto puede hacer y son como verbos en el lenguaje natural. Por ejemplo, en una clase `Coche`, los métodos podrían ser `arrancar()`, `detener()`, `acelerar()`, etc. Los métodos pueden acceder y modificar los atributos del objeto y realizar diversas operaciones.\n"
   ]
  },
  {
   "cell_type": "markdown",
   "id": "20082363",
   "metadata": {},
   "source": [
    "<a name='4'></a>\n",
    "\n",
    "# Parámetro self\n",
    "[regresar al contenido](#c1)\n",
    "\n",
    "El parámetro `self` es una referencia a la instancia actual de la clase y se utiliza para acceder a variables que pertenecen a la clase.\n",
    "\n",
    "No es necesario que se llame `self`, puedes ponerle el nombre que desees, pero debe ser el primer parámetro de cualquier función en la clase:"
   ]
  },
  {
   "cell_type": "code",
   "execution_count": 8,
   "id": "475cfa92",
   "metadata": {},
   "outputs": [
    {
     "name": "stdout",
     "output_type": "stream",
     "text": [
      "Hello my name is John\n"
     ]
    }
   ],
   "source": [
    "class Person:\n",
    "  def __init__(mysillyobject, name, age):\n",
    "    mysillyobject.name = name\n",
    "    mysillyobject.age = age\n",
    "\n",
    "  def myfunc(abc):\n",
    "    print(\"Hello my name is \" + abc.name)\n",
    "\n",
    "p1 = Person(\"John\", 36)\n",
    "p1.myfunc()"
   ]
  },
  {
   "cell_type": "markdown",
   "id": "7abd10eb",
   "metadata": {},
   "source": [
    "Puedes utilizar las palabras `mysillyobject` y `abc` en lugar de `self`:"
   ]
  },
  {
   "cell_type": "markdown",
   "id": "db7112d8",
   "metadata": {},
   "source": [
    "<a name='4-1'></a>\n",
    "\n",
    "# Modificando propiedades del objeto\n",
    "[regresar al contenido](#c1)\n",
    "\n",
    "Puedes modificar las propiedades de los objetos de esta manera:"
   ]
  },
  {
   "cell_type": "code",
   "execution_count": 12,
   "id": "c7c2ae22",
   "metadata": {},
   "outputs": [
    {
     "name": "stdout",
     "output_type": "stream",
     "text": [
      "My age 40\n"
     ]
    }
   ],
   "source": [
    "p1.age = 40\n",
    "print(\"My age \" + str(p1.age))"
   ]
  },
  {
   "cell_type": "markdown",
   "id": "f6d539f9",
   "metadata": {},
   "source": [
    "<a name='4-2'></a>\n",
    "\n",
    "# Borrando propiedades del objeto\n",
    "[regresar al contenido](#c1)"
   ]
  },
  {
   "cell_type": "code",
   "execution_count": 13,
   "id": "1902ea21",
   "metadata": {},
   "outputs": [],
   "source": [
    "del p1.age"
   ]
  },
  {
   "cell_type": "markdown",
   "id": "24ca078f",
   "metadata": {},
   "source": [
    "<a name='4-3'></a>\n",
    "\n",
    "# Borrando objetos\n",
    "[regresar al contenido](#c1)"
   ]
  },
  {
   "cell_type": "code",
   "execution_count": 16,
   "id": "98d8aa6c",
   "metadata": {},
   "outputs": [
    {
     "ename": "NameError",
     "evalue": "name 'p1' is not defined",
     "output_type": "error",
     "traceback": [
      "\u001b[1;31m---------------------------------------------------------------------------\u001b[0m",
      "\u001b[1;31mNameError\u001b[0m                                 Traceback (most recent call last)",
      "Input \u001b[1;32mIn [16]\u001b[0m, in \u001b[0;36m<cell line: 1>\u001b[1;34m()\u001b[0m\n\u001b[1;32m----> 1\u001b[0m \u001b[38;5;28;01mdel\u001b[39;00m p1\n",
      "\u001b[1;31mNameError\u001b[0m: name 'p1' is not defined"
     ]
    }
   ],
   "source": [
    "del p1"
   ]
  },
  {
   "cell_type": "markdown",
   "id": "202b7434",
   "metadata": {},
   "source": [
    "<a name='5'></a>\n",
    "\n",
    "# Pass \n",
    "[regresar al contenido](#c1)"
   ]
  },
  {
   "cell_type": "code",
   "execution_count": 15,
   "id": "ef5b266e",
   "metadata": {},
   "outputs": [],
   "source": [
    "class Person:\n",
    "  pass"
   ]
  }
 ],
 "metadata": {
  "kernelspec": {
   "display_name": "Python 3 (ipykernel)",
   "language": "python",
   "name": "python3"
  },
  "language_info": {
   "codemirror_mode": {
    "name": "ipython",
    "version": 3
   },
   "file_extension": ".py",
   "mimetype": "text/x-python",
   "name": "python",
   "nbconvert_exporter": "python",
   "pygments_lexer": "ipython3",
   "version": "3.9.12"
  }
 },
 "nbformat": 4,
 "nbformat_minor": 5
}
