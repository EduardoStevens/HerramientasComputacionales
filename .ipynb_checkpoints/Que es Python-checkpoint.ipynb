{
 "cells": [
  {
   "cell_type": "markdown",
   "id": "0c4018bd",
   "metadata": {},
   "source": [
    "<font color=\"Red\" face=\"Comic Sans MS,arial\">\n",
    "  <h1 align=\"center\"><i>¿Qué es Python? </i></h1>\n",
    "  </font>\n",
    "  \n",
    "> Elaborado por: Jesús Iván Coss Calderón. mat_ing_coss@ciencias.unam.mx"
   ]
  },
  {
   "cell_type": "markdown",
   "id": "d572795c",
   "metadata": {},
   "source": [
    "**Objetivo general**\n",
    "\n",
    "* Aprender los fundamentos del lenguaje de programación python\n",
    "\n",
    "**Objetivos particulares**\n",
    "\n",
    "* Entender el funcionamiento de python"
   ]
  },
  {
   "cell_type": "markdown",
   "id": "001e54d2",
   "metadata": {},
   "source": [
    "[**Regresa al notebook principal**](https://github.com/seismomat/HerramientasComputacionales/blob/main/TemarioDePython/Temario%20de%20Python.ipynb)"
   ]
  },
  {
   "cell_type": "markdown",
   "id": "b76ffc8a",
   "metadata": {},
   "source": [
    "<a name='c1'></a>\n",
    "\n",
    "## Contenido\n",
    "\n",
    "- [Introducción](#1)\n",
    "- [Memoria](#2)\n",
    "- [Tipos de datos en un diccionario](#3)\n",
    "- [Pasar valores de un diccionario a una lista](#4)\n",
    "- [Utilidad de los diccionarios](#5)\n",
    "- [Ejercicios propuestos](#6)"
   ]
  },
  {
   "cell_type": "markdown",
   "id": "269975e0",
   "metadata": {},
   "source": [
    "<a name='1'></a>\n",
    "\n",
    "# Introducción\n",
    "[regresar al contenido](#c1)\n"
   ]
  },
  {
   "cell_type": "markdown",
   "id": "f0fb1263",
   "metadata": {},
   "source": [
    "Python es un lenguaje de programación de alto nivel, de propósito general, creado por Guido van Rossum. Su desarrollo comenzó a finales de la década de 1980, y la primera versión oficial de Python, la versión 0.9.0, se lanzó en febrero de 1991. El nombre `Python` se inspiró en la afición de Guido van Rossum por el grupo de comedia británico \"Monty Python.\"\n",
    "\n",
    "A lo largo de los años, Python ha experimentado varias versiones y mejoras significativas. Algunos hitos importantes en la historia de Python incluyen:\n",
    "\n",
    "1. **Python 1.0 (enero de 1994)**: Esta fue la primera versión oficialmente reconocida del lenguaje. Introdujo algunas características fundamentales como funciones lambda, map(), filter() y reduce().\n",
    "\n",
    "2. **Python 2.0 (octubre de 2000)**: Esta versión trajo consigo importantes mejoras, como list comprehensions y garbage collection. Python 2 se convirtió en la versión dominante durante muchos años.\n",
    "\n",
    "3. **Python 3.0 (diciembre de 2008)**: Python 3 marcó un punto de ruptura con Python 2. Se realizaron cambios significativos en la sintaxis y la semántica del lenguaje para abordar deficiencias y ambigüedades en Python 2. Aunque esto resultó en una falta de retrocompatibilidad, se consideró necesario para el futuro del lenguaje.\n",
    "\n",
    "4. **Comunidad y Adopción (siglo XXI)**: Python ganó popularidad rápidamente en la década de 2000 debido a su simplicidad, legibilidad y una comunidad de desarrolladores activa y amigable. Se convirtió en un lenguaje de programación ampliamente utilizado en diversas aplicaciones, desde desarrollo web hasta ciencia de datos y aprendizaje automático.\n",
    "\n",
    "5. **Python 3.x (lanzamientos continuos)**: A partir de Python 3.0, se han lanzado múltiples versiones de Python 3 con mejoras y características adicionales. Python 3.7, Python 3.8, Python 3.9 y Python 3.10 son algunos ejemplos de versiones posteriores que han mejorado aún más el lenguaje.\n",
    "\n",
    "6. **Uso en Ciencia de Datos y Aprendizaje Automático**: En la última década, Python se ha convertido en uno de los lenguajes más populares para la ciencia de datos y el aprendizaje automático, en gran parte debido a bibliotecas como NumPy, pandas, Matplotlib, SciPy y TensorFlow, entre otras.\n",
    "\n",
    "7. **Comunidad y Ecosistema**: La comunidad de Python es conocida por su apertura y colaboración. Los desarrolladores de todo el mundo contribuyen con paquetes y bibliotecas de código abierto, lo que ha llevado a un vasto ecosistema de herramientas y recursos disponibles para los usuarios de Python.\n",
    "\n",
    "8. **Python en la Web**: Python es ampliamente utilizado en el desarrollo web a través de frameworks como Django y Flask. También es el lenguaje detrás de importantes plataformas de sitios web y servicios, como Instagram, Dropbox y YouTube.\n",
    "\n",
<<<<<<< HEAD
    "[imagen fulana]()"
=======
    "[liga]()"
>>>>>>> Ivan
   ]
  },
  {
   "cell_type": "markdown",
   "id": "d003deb7",
   "metadata": {},
   "source": [
    "<a name='2'></a>\n",
    "\n",
    "# Memoria\n",
    "[regresar al contenido](#c1)"
   ]
  },
  {
   "cell_type": "markdown",
   "id": "d7fea2a1",
   "metadata": {},
   "source": [
    "Con el siguiente ejemplo podemos ver como Python asigna diferente número de `bits` a las variables en función del número que quieren representar. La función `getsizeof()` devuelve el tamaño de una variable en memoria."
   ]
  },
  {
   "cell_type": "code",
   "execution_count": 3,
   "id": "a7c7c289",
   "metadata": {},
   "outputs": [
    {
     "name": "stdout",
     "output_type": "stream",
     "text": [
      "3120 <class 'int'>\n",
      "28 <class 'int'>\n"
     ]
    }
   ],
   "source": [
    "import sys\n",
    "x = 5**10000\n",
    "y = 1\n",
    "print(sys.getsizeof(x), type(x))\n",
    "print(sys.getsizeof(y), type(y))"
   ]
  },
  {
   "cell_type": "code",
   "execution_count": 4,
   "id": "664f7be6",
   "metadata": {},
   "outputs": [
    {
     "name": "stdout",
     "output_type": "stream",
     "text": [
      "2.2250738585072014e-308\n",
      "1.7976931348623157e+308\n"
     ]
    }
   ],
   "source": [
    "print(sys.float_info.min) #2.2250738585072014e-308\n",
    "print(sys.float_info.max) #1.7976931348623157e+308"
   ]
  },
  {
   "cell_type": "code",
   "execution_count": 7,
   "id": "2ceeadd0",
   "metadata": {},
   "outputs": [
    {
     "data": {
      "text/plain": [
       "sys.float_info(max=1.7976931348623157e+308, max_exp=1024, max_10_exp=308, min=2.2250738585072014e-308, min_exp=-1021, min_10_exp=-307, dig=15, mant_dig=53, epsilon=2.220446049250313e-16, radix=2, rounds=1)"
      ]
     },
     "execution_count": 7,
     "metadata": {},
     "output_type": "execute_result"
    }
   ],
   "source": [
    "sys.float_info"
   ]
  },
  {
   "cell_type": "markdown",
   "id": "334a05cf",
   "metadata": {},
   "source": [
    "<a name='3'></a>\n",
    "\n",
    "# Diccionarios\n",
    "[regresar al contenido](#c1)"
   ]
  },
  {
   "cell_type": "markdown",
   "id": "20082363",
   "metadata": {},
   "source": [
    "<a name='4'></a>\n",
    "\n",
    "# Diccionarios\n",
    "[regresar al contenido](#c1)"
   ]
  },
  {
   "cell_type": "markdown",
   "id": "202b7434",
   "metadata": {},
   "source": [
    "<a name='6'></a>\n",
    "\n",
    "# Ejercicios propuestos\n",
    "[regresar al contenido](#c1)"
   ]
  },
  {
   "cell_type": "markdown",
   "id": "7739c210",
   "metadata": {},
   "source": [
    "Propuestas de ejercicios para practicar con diccionarios en Python:\n",
    "\n",
    "1. **Contador de Palabras**: Escribe un programa que cuente cuántas veces aparece cada palabra en una frase y almacene los resultados en un diccionario.\n",
    "\n",
    "2. **Gestión de Inventario**: Crea un programa que simule la gestión de inventario de una tienda. Puedes agregar y restar cantidades de productos utilizando diccionarios.\n",
    "\n",
    "3. **Diccionario Invertido**: Escribe una función que tome un diccionario como entrada y genere un nuevo diccionario donde las claves sean los valores del diccionario original y los valores sean las claves.\n",
    "\n",
    "4. **Contar Caracteres**: Crea una función que tome una cadena como entrada y devuelva un diccionario que cuente la cantidad de veces que aparece cada caracter.\n",
    "\n",
    "5. **Unión de Diccionarios**: Implementa una función que tome dos diccionarios y los combine en uno solo. Si hay claves repetidas, suma los valores.\n",
    "\n",
    "6. **Máximo Valor en Diccionario**: Escribe una función que encuentre la clave asociada al valor máximo en un diccionario de números.\n",
    "\n",
    "7. **Modificar Valores**: Crea un programa que permita al usuario modificar los valores de un diccionario de información personal.\n",
    "\n",
    "8. **Cálculo de Notas**: Crea un programa que calcule el promedio de calificaciones de estudiantes y los almacene en un diccionario con sus nombres.\n",
    "\n",
    "9. **Análisis de Texto**: Escribe una función que tome un texto como entrada y genere un diccionario con las palabras únicas y la cantidad de veces que aparece cada una.\n",
    "\n",
    "10. **Diccionario de Palabras Anidadas**: Crea un diccionario que contenga información sobre diferentes países, como sus ciudades y poblaciones. Puedes anidar diccionarios dentro de otros diccionarios.\n",
    "\n",
    "11. **Contador de Letras**: Escribe un programa que cuente cuántas veces aparece cada letra en una cadena y almacene los resultados en un diccionario.\n",
    "\n",
    "12. **Traductor Simple**: Crea un programa que funcione como un traductor simple, utilizando un diccionario para mapear palabras en un idioma a otro.\n",
    "\n",
    "13. **Estadísticas de Palabras**: Implementa una función que tome un párrafo como entrada y genere un diccionario con estadísticas sobre las palabras (número de letras, número de vocales, etc.).\n",
    "\n",
    "14. **Eliminación de Duplicados**: Escribe un programa que tome una lista y elimine los elementos duplicados, utilizando un diccionario para rastrear elementos únicos.\n",
    "\n",
    "15. **Contador de Elementos**: Crea una función que tome una lista y genere un diccionario que cuente cuántas veces aparece cada elemento.\n",
    "\n",
    "Estos ejercicios te brindarán la oportunidad de practicar y familiarizarte con la manipulación y uso de diccionarios en Python. ¡Disfruta resolviéndolos!"
   ]
  },
  {
   "cell_type": "code",
   "execution_count": null,
   "id": "ef5b266e",
   "metadata": {},
   "outputs": [],
   "source": []
  }
 ],
 "metadata": {
  "kernelspec": {
   "display_name": "Python 3 (ipykernel)",
   "language": "python",
   "name": "python3"
  },
  "language_info": {
   "codemirror_mode": {
    "name": "ipython",
    "version": 3
   },
   "file_extension": ".py",
   "mimetype": "text/x-python",
   "name": "python",
   "nbconvert_exporter": "python",
   "pygments_lexer": "ipython3",
   "version": "3.9.12"
  }
 },
 "nbformat": 4,
 "nbformat_minor": 5
}
