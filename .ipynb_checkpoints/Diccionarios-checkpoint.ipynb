{
 "cells": [
  {
   "cell_type": "markdown",
   "id": "cd233fac",
   "metadata": {
    "colab_type": "text",
    "id": "view-in-github"
   },
   "source": [
    "<a href=\"https://colab.research.google.com/github/seismomat/HerramientasComputacionales/blob/Ivan/Diccionarios.ipynb\" target=\"_parent\"><img src=\"https://colab.research.google.com/assets/colab-badge.svg\" alt=\"Open In Colab\"/></a>"
   ]
  },
  {
   "cell_type": "markdown",
   "id": "4197bd31",
   "metadata": {},
   "source": [
    "<font color=\"Red\" face=\"Comic Sans MS,arial\">\n",
    "  <h1 align=\"center\"><i>Diccionarios </i></h1>\n",
    "  </font>\n",
    "  \n",
    "> Elaborado por: Jesús Iván Coss Calderón. mat_ing_coss@ciencias.unam.mx"
   ]
  },
  {
   "cell_type": "markdown",
   "id": "92417760",
   "metadata": {},
   "source": [
    "**Objetivo general**\n",
    "\n",
    "* Aprender los fundamentos de la estructura de datos conocida como diccionarios\n",
    "\n",
    "**Objetivos particulares**\n",
    "\n",
    "* Entender los métodos de la clase diccionarios"
   ]
  },
  {
   "cell_type": "markdown",
   "id": "cfecd049",
   "metadata": {},
   "source": [
    "<a name='c1'></a>\n",
    "\n",
    "## Contenido\n",
    "\n",
    "- [Diccionarios](#1)\n",
    "    - [Declaración](#1-1)\n",
    "    - [Tipo de dato o clase](#1-2)\n",
    "    - [Método Keys()](#1-3)\n",
    "    - [Método Values()](#1-4)\n",
    "    - [Método de acceso a elementos](#1-5)\n",
    "    - [Agregar elementos](#1-6)\n",
    "- [Ejemplo](#2)\n",
    "- [Tipos de datos en un diccionario](#3)\n",
    "- [Pasar valores de un diccionario a una lista](#4)\n",
    "- [Utilidad de los diccionarios](#5)"
   ]
  },
  {
   "cell_type": "markdown",
   "id": "fa9de960",
   "metadata": {
    "id": "fa9de960"
   },
   "source": [
    "<a name='1'></a>\n",
    "\n",
    "# Diccionarios\n",
    "[regresar al contenido](#c1)\n",
    "\n",
    "\n",
    "Un diccionario en Python es una estructura de datos que almacena elementos en pares clave-valor, donde cada clave es única y está asociada a un valor específico. Los diccionarios son muy útiles para representar colecciones de datos en las que necesitas acceder a los elementos por su clave en lugar de por su posición, como lo harías en una lista.\n"
   ]
  },
  {
   "cell_type": "markdown",
   "id": "926c96c6",
   "metadata": {},
   "source": [
    "<a name='1-1'></a>\n",
    "\n",
    "# Declaración\n",
    "[regresar al contenido](#c1)\n",
    "\n",
    "La manera de declarar un diccionario es la siguiente"
   ]
  },
  {
   "cell_type": "code",
   "execution_count": 22,
   "id": "089653d8",
   "metadata": {
    "id": "089653d8",
    "outputId": "da1dcf0b-0fa6-43cf-bb26-f5decf2a54c6"
   },
   "outputs": [],
   "source": [
    "star = {'name': 'Hamal', 'mag': 2.00, 'SpT': 'K2III', 'dist': 66}"
   ]
  },
  {
   "cell_type": "markdown",
   "id": "16055868",
   "metadata": {},
   "source": [
    "<a name='1-2'></a>\n",
    "\n",
    "# Tipo de dato o clase\n",
    "[regresar al contenido](#c1)\n",
    "\n",
    "Cabe mencionar que la clase de dicha estructura es **dict**, como se observa a continuación"
   ]
  },
  {
   "cell_type": "code",
   "execution_count": 23,
   "id": "9bab24b4",
   "metadata": {},
   "outputs": [
    {
     "name": "stdout",
     "output_type": "stream",
     "text": [
      "<class 'dict'>\n"
     ]
    }
   ],
   "source": [
    "print(type(star))"
   ]
  },
  {
   "cell_type": "markdown",
   "id": "6291b8b8",
   "metadata": {},
   "source": [
    "<a name='1-3'></a>\n",
    "\n",
    "# Método Keys()\n",
    "[regresar al contenido](#c1)\n",
    "\n",
    "Si desea conocer los nombres de todas las variables en el diccionario se hace de la siguiente manera **nombre_diccionario.keys()** "
   ]
  },
  {
   "cell_type": "markdown",
   "id": "feabc567",
   "metadata": {},
   "source": [
    "Si desea conocer los nombres de todas las variables en el diccionario se hace de la siguiente manera **nombre_diccionario.keys()** "
   ]
  },
  {
   "cell_type": "code",
   "execution_count": 24,
   "id": "d157b8aa",
   "metadata": {
    "id": "d157b8aa",
    "outputId": "b177d74c-3d58-445b-c910-91a068f03407"
   },
   "outputs": [
    {
     "data": {
      "text/plain": [
       "dict_keys(['name', 'mag', 'SpT', 'dist'])"
      ]
     },
     "execution_count": 24,
     "metadata": {},
     "output_type": "execute_result"
    }
   ],
   "source": [
    "star.keys()"
   ]
  },
  {
   "cell_type": "markdown",
   "id": "edd8f230",
   "metadata": {},
   "source": [
    "<a name='1-4'></a>\n",
    "\n",
    "# Método Values()\n",
    "[regresar al contenido](#c1)"
   ]
  },
  {
   "cell_type": "markdown",
   "id": "10eb04f6",
   "metadata": {},
   "source": [
    "Los valores los obtienes con **nombre_diccionario.values()**"
   ]
  },
  {
   "cell_type": "code",
   "execution_count": 25,
   "id": "35a93859",
   "metadata": {
    "id": "35a93859",
    "outputId": "b3fa3d64-a887-48c8-ee81-51b2559e7761"
   },
   "outputs": [
    {
     "data": {
      "text/plain": [
       "dict_values(['Hamal', 2.0, 'K2III', 66])"
      ]
     },
     "execution_count": 25,
     "metadata": {},
     "output_type": "execute_result"
    }
   ],
   "source": [
    "star.values()"
   ]
  },
  {
   "cell_type": "markdown",
   "id": "aa35708b",
   "metadata": {},
   "source": [
    "<a name='1-5'></a>\n",
    "\n",
    "# Método de acceso a elementos\n",
    "[regresar al contenido](#c1)"
   ]
  },
  {
   "cell_type": "markdown",
   "id": "b7374be7",
   "metadata": {},
   "source": [
    "La manera para visualizar un elemento específico del diccionario es como sigue **nombre_diccionario['llave']**"
   ]
  },
  {
   "cell_type": "code",
   "execution_count": 26,
   "id": "a61f04bb",
   "metadata": {
    "id": "a61f04bb",
    "outputId": "b191b3dc-39f4-4725-a887-a7eca594d3c1"
   },
   "outputs": [
    {
     "name": "stdout",
     "output_type": "stream",
     "text": [
      "Hamal\n"
     ]
    }
   ],
   "source": [
    "print( star['name'] )"
   ]
  },
  {
   "cell_type": "markdown",
   "id": "0e98def2",
   "metadata": {},
   "source": [
    "<a name='1-6'></a>\n",
    "\n",
    "# Agregar elementos\n",
    "[regresar al contenido](#c1)"
   ]
  },
  {
   "cell_type": "markdown",
   "id": "f7c777e0",
   "metadata": {},
   "source": [
    "Para agregar una nueva variable se realiza de la siguiente manera **nombre_diccionario['nueva_variable']=valor_nuevo**"
   ]
  },
  {
   "cell_type": "code",
   "execution_count": 27,
   "id": "1d68d1e7",
   "metadata": {
    "id": "1d68d1e7",
    "outputId": "b08f7c58-91ef-443c-a955-e0b252e73340"
   },
   "outputs": [],
   "source": [
    "star['paralax'] = 49.56"
   ]
  },
  {
   "cell_type": "markdown",
   "id": "6fd64dd2",
   "metadata": {},
   "source": [
    "Aplicamos nuevamente el método Keys para visualizar que se haya agregado el elemento nuevo. "
   ]
  },
  {
   "cell_type": "code",
   "execution_count": 28,
   "id": "9a6eb05d",
   "metadata": {},
   "outputs": [
    {
     "data": {
      "text/plain": [
       "dict_keys(['name', 'mag', 'SpT', 'dist', 'paralax'])"
      ]
     },
     "execution_count": 28,
     "metadata": {},
     "output_type": "execute_result"
    }
   ],
   "source": [
    "star.keys()"
   ]
  },
  {
   "cell_type": "markdown",
   "id": "90b5c193",
   "metadata": {
    "id": "90b5c193"
   },
   "source": [
    "La siguiente función es un ejemplo, en el cual se usa lo visto anteriormente de un lista y un diccionario, simplemente se extraen los valores del diccionario.\n"
   ]
  },
  {
   "cell_type": "markdown",
   "id": "f8727613",
   "metadata": {},
   "source": [
    "<a name='2'></a>\n",
    "\n",
    "# Ejemplo\n",
    "[regresar al contenido](#c1)\n",
    "\n",
    "Otra manera para declarar un diccionario es la siguiente"
   ]
  },
  {
   "cell_type": "code",
   "execution_count": 29,
   "id": "43d628f2",
   "metadata": {},
   "outputs": [
    {
     "name": "stdout",
     "output_type": "stream",
     "text": [
      "{'brand': 'Ford', 'model': 'Mustang', 'year': 2020}\n"
     ]
    }
   ],
   "source": [
    "thisdict = {\n",
    "  \"brand\": \"Ford\",\n",
    "  \"model\": \"Mustang\",\n",
    "  \"year\": 1964,\n",
    "  \"year\": 2020\n",
    "}\n",
    "print(thisdict)"
   ]
  },
  {
   "cell_type": "markdown",
   "id": "b88020c5",
   "metadata": {},
   "source": [
    "<a name='3'></a>\n",
    "\n",
    "# Tipos de datos en un diccionario\n",
    "[regresar al contenido](#c1)\n",
    "\n",
    "En un diccionario se pueden guardar todo tipo de variables y tipos de datos."
   ]
  },
  {
   "cell_type": "code",
   "execution_count": 30,
   "id": "031da37c",
   "metadata": {},
   "outputs": [],
   "source": [
    "thisdict = {\n",
    "  \"brand\": \"Ford\",\n",
    "  \"electric\": False,\n",
    "  \"year\": 1964,\n",
    "  \"colors\": [\"red\", \"white\", \"blue\"]\n",
    "}"
   ]
  },
  {
   "cell_type": "markdown",
   "id": "d3fae374",
   "metadata": {},
   "source": [
    "<a name='4'></a>\n",
    "\n",
    "# Pasar valores de un diccionario a una lista\n",
    "[regresar al contenido](#c1)"
   ]
  },
  {
   "cell_type": "code",
   "execution_count": 31,
   "id": "8eab08a3",
   "metadata": {
    "id": "8eab08a3"
   },
   "outputs": [
    {
     "name": "stdout",
     "output_type": "stream",
     "text": [
      "[2.7, 2.13, 5.7]\n"
     ]
    }
   ],
   "source": [
    "diccionario = {'python': 2.7, 'zope': 2.13, 'plone': 5.7}\n",
    "\n",
    "l=[]\n",
    "for i in diccionario.keys():\n",
    "    l.append(diccionario[i])\n",
    "\n",
    "print(l)"
   ]
  },
  {
   "cell_type": "markdown",
   "id": "35ca8b7f",
   "metadata": {},
   "source": [
    "<a name='5'></a>\n",
    "\n",
    "# Utilidad de los diccionarios\n",
    "[regresar al contenido](#c1)"
   ]
  },
  {
   "cell_type": "code",
   "execution_count": 32,
   "id": "51f36d1a",
   "metadata": {},
   "outputs": [
    {
     "name": "stdout",
     "output_type": "stream",
     "text": [
      "  Nombre  Edad     Ciudad\n",
      "0   Juan    25     Madrid\n",
      "1  María    28  Barcelona\n",
      "2  Pedro    22   Valencia\n",
      "3  Luisa    30    Sevilla\n"
     ]
    }
   ],
   "source": [
    "import pandas as pd\n",
    "\n",
    "# Crear un diccionario con datos\n",
    "datos = {\n",
    "    'Nombre': ['Juan', 'María', 'Pedro', 'Luisa'],\n",
    "    'Edad': [25, 28, 22, 30],\n",
    "    'Ciudad': ['Madrid', 'Barcelona', 'Valencia', 'Sevilla']\n",
    "}\n",
    "\n",
    "# Crear un DataFrame a partir del diccionario\n",
    "dataframe = pd.DataFrame(datos)\n",
    "\n",
    "# Mostrar el DataFrame\n",
    "print(dataframe)\n"
   ]
  }
 ],
 "metadata": {
  "colab": {
   "include_colab_link": true,
   "provenance": []
  },
  "kernelspec": {
   "display_name": "Python 3 (ipykernel)",
   "language": "python",
   "name": "python3"
  },
  "language_info": {
   "codemirror_mode": {
    "name": "ipython",
    "version": 3
   },
   "file_extension": ".py",
   "mimetype": "text/x-python",
   "name": "python",
   "nbconvert_exporter": "python",
   "pygments_lexer": "ipython3",
   "version": "3.9.12"
  }
 },
 "nbformat": 4,
 "nbformat_minor": 5
}
