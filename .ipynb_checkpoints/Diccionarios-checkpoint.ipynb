{
 "cells": [
  {
   "cell_type": "markdown",
   "id": "fa9de960",
   "metadata": {},
   "source": [
    "## Diccionarios.\n",
    "\n",
    "Los diccionarios, son otra estructura de dato que se tiene en python, la manera de declarar un diccionario se observa en el siguiente bloque, note que con comillas simples se introducen los nombres de la variable seguido de dos puntos se introduce el valor que toma dicha variable, el cual no se acota a valores numéricos."
   ]
  },
  {
   "cell_type": "code",
   "execution_count": 1,
   "id": "089653d8",
   "metadata": {},
   "outputs": [
    {
     "name": "stdout",
     "output_type": "stream",
     "text": [
      "<class 'dict'>\n"
     ]
    }
   ],
   "source": [
    "star = {'name': 'Hamal', 'mag': 2.00, 'SpT': 'K2III', 'dist': 66}\n",
    "print(type(star))"
   ]
  },
  {
   "cell_type": "markdown",
   "id": "7ad6e142",
   "metadata": {},
   "source": [
    "Cabe mencionar que la clase de dicha estructura es \"dict\", si desea conocer los nombres de todas las variables en el diccionario se hace de la siguiente manera nombre_diccionario.keys() y los valores los obtienes con nombre_diccionario.values(), para agregar una nueva variable se realiza de la siguiente manera ,nombre_diccionario['nueva_variable']=valor_nuevo>"
   ]
  },
  {
   "cell_type": "code",
   "execution_count": 2,
   "id": "d157b8aa",
   "metadata": {},
   "outputs": [
    {
     "data": {
      "text/plain": [
       "dict_keys(['name', 'mag', 'SpT', 'dist'])"
      ]
     },
     "execution_count": 2,
     "metadata": {},
     "output_type": "execute_result"
    }
   ],
   "source": [
    "star.keys()"
   ]
  },
  {
   "cell_type": "code",
   "execution_count": 3,
   "id": "35a93859",
   "metadata": {},
   "outputs": [
    {
     "data": {
      "text/plain": [
       "dict_values(['Hamal', 2.0, 'K2III', 66])"
      ]
     },
     "execution_count": 3,
     "metadata": {},
     "output_type": "execute_result"
    }
   ],
   "source": [
    "star.values()"
   ]
  },
  {
   "cell_type": "code",
   "execution_count": 4,
   "id": "a61f04bb",
   "metadata": {},
   "outputs": [
    {
     "name": "stdout",
     "output_type": "stream",
     "text": [
      "Hamal\n"
     ]
    }
   ],
   "source": [
    "print( star['name'] )"
   ]
  },
  {
   "cell_type": "code",
   "execution_count": 5,
   "id": "1d68d1e7",
   "metadata": {},
   "outputs": [
    {
     "data": {
      "text/plain": [
       "dict_keys(['name', 'mag', 'SpT', 'dist', 'paralax'])"
      ]
     },
     "execution_count": 5,
     "metadata": {},
     "output_type": "execute_result"
    }
   ],
   "source": [
    "star['paralax'] = 49.56\n",
    "star.keys()"
   ]
  },
  {
   "cell_type": "markdown",
   "id": "90b5c193",
   "metadata": {},
   "source": [
    "La siguiente función es un ejemplo, en el cual se usa lo visto anteriormente de un lista y un diccionario, simplemente se extraen los valores del diccionario.\n"
   ]
  },
  {
   "cell_type": "code",
   "execution_count": null,
   "id": "8eab08a3",
   "metadata": {},
   "outputs": [],
   "source": [
    "diccionario = {'python': 2.7, 'zope': 2.13, 'plone': 5.7}\n",
    "\n",
    "l=[]\n",
    "for i in diccionario.keys():\n",
    "    l.append(diccionario[i])\n",
    "    \n",
    "print(l)"
   ]
  }
 ],
 "metadata": {
  "kernelspec": {
   "display_name": "Python 3 (ipykernel)",
   "language": "python",
   "name": "python3"
  },
  "language_info": {
   "codemirror_mode": {
    "name": "ipython",
    "version": 3
   },
   "file_extension": ".py",
   "mimetype": "text/x-python",
   "name": "python",
   "nbconvert_exporter": "python",
   "pygments_lexer": "ipython3",
   "version": "3.9.12"
  }
 },
 "nbformat": 4,
 "nbformat_minor": 5
}
