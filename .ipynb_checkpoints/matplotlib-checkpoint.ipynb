{
 "cells": [
  {
   "cell_type": "markdown",
   "id": "0c4018bd",
   "metadata": {},
   "source": [
    "<font color=\"Red\" face=\"Comic Sans MS,arial\">\n",
    "  <h1 align=\"center\"><i>Matplotlib </i></h1>\n",
    "  </font>\n",
    "  \n",
    "> Elaborado por: Jesús Iván Coss Calderón. mat_ing_coss@ciencias.unam.mx"
   ]
  },
  {
   "cell_type": "markdown",
   "id": "d572795c",
   "metadata": {},
   "source": [
    "**Objetivo general**\n",
    "\n",
    "* Aprender los fundamentos de la biblioteca de Matplotlib\n",
    "\n",
    "**Objetivos particulares**\n",
    "\n",
    "* Entender el uso de los métodos de Matplotlib"
   ]
  },
  {
   "cell_type": "markdown",
   "id": "001e54d2",
   "metadata": {},
   "source": [
    "[**Regresa al notebook principal**](https://github.com/seismomat/HerramientasComputacionales/blob/main/TemarioDePython/Temario%20de%20Python.ipynb)"
   ]
  },
  {
   "cell_type": "markdown",
   "id": "b76ffc8a",
   "metadata": {},
   "source": [
    "<a name='c1'></a>\n",
    "\n",
    "## Contenido\n",
    "\n",
    "- [¿Qué es Matplotlib?](#1)\n",
    "    - [Instalación de Matplotlib](#1-1)\n",
    "    - [Importando Matplotlib](#1-2)\n",
    "- [Graficando un objeto de NumPy](#2)\n",
    "    - [Dibujar puntos en coordenadas x e y](#2-1)\n",
    "    - [Dibujar puntos sin linea](#2-2)\n",
    "    - [Dibujar múltiples puntos](#2-3)\n",
    "    - [Puntos default](#2-4)\n",
    "- [Acceso a elementos](#3)\n",
    "    - [Arreglos 1-D](#3-1)\n",
    "    - [Arreglos 2-D](#3-2)\n",
    "    - [Arreglos 3-D](#3-3)\n",
    "- [Slicing](#4)\n",
    "    - [Arreglos 1-D](#4-1)\n",
    "        - [Paso](#4-1-1)\n",
    "    - [Arreglos 2-D](#4-2)\n",
    "- [Buscando en arreglos](#5)\n",
    "- [Filtrado](#6)"
   ]
  },
  {
   "cell_type": "markdown",
   "id": "269975e0",
   "metadata": {},
   "source": [
    "<a name='1'></a>\n",
    "\n",
    "# ¿Qué es Matplotlib?\n",
    "[regresar al contenido](#c1)\n",
    "\n",
    "Matplotlib es una biblioteca de trazado de gráficos de bajo nivel en Python que sirve como una utilidad de visualización.\n",
    "\n",
    "Matplotlib fue creado por John D. Hunter.\n",
    "\n",
    "Matplotlib es de código abierto y podemos usarlo libremente.\n",
    "\n",
    "Matplotlib está principalmente escrito en Python, con algunas partes escritas en C, Objective-C y Javascript para garantizar la compatibilidad con diferentes plataformas."
   ]
  },
  {
   "cell_type": "markdown",
   "id": "1e4b0d87",
   "metadata": {},
   "source": [
    "<a name='1-1'></a>\n",
    "\n",
    "## Instalación de Matplotlib\n",
    "[regresar al contenido](#c1)\n",
    "\n",
    "> pip install matplotlib"
   ]
  },
  {
   "cell_type": "markdown",
   "id": "1afce1d8",
   "metadata": {},
   "source": [
    "<a name='1-2'></a>\n",
    "\n",
    "## Importando Matplotlib\n",
    "[regresar al contenido](#c1)\n",
    "\n",
    "> import matplotlib\n",
    "\n",
    "o también se puede importar con algún alias\n",
    "\n",
    "> import matplotlib.pyplot as plt"
   ]
  },
  {
   "cell_type": "markdown",
   "id": "d003deb7",
   "metadata": {},
   "source": [
    "<a name='2'></a>\n",
    "\n",
    "# Graficando un objeto de NumPy\n",
    "[regresar al contenido](#c1)\n",
    "\n",
    "A continuación se dibuja una línea en un diagrama desde la posición (0,0) hasta la posición (6,250)"
   ]
  },
  {
   "cell_type": "code",
   "execution_count": 1,
   "id": "a7c7c289",
   "metadata": {},
   "outputs": [],
   "source": [
    "import matplotlib.pyplot as plt\n",
    "import numpy as np"
   ]
  },
  {
   "cell_type": "code",
   "execution_count": 2,
   "id": "64fb5e5d",
   "metadata": {},
   "outputs": [
    {
     "data": {
      "image/png": "[encoded data removed]",
      "text/plain": [
       "<Figure size 432x288 with 1 Axes>"
      ]
     },
     "metadata": {
      "needs_background": "light"
     },
     "output_type": "display_data"
    }
   ],
   "source": [
    "xpoints = np.array([0, 6])\n",
    "ypoints = np.array([0, 250])\n",
    "\n",
    "plt.plot(xpoints, ypoints)\n",
    "plt.show()"
   ]
  },
  {
   "cell_type": "markdown",
   "id": "005406f1",
   "metadata": {},
   "source": [
    "<a name='2-1'></a>\n",
    "\n",
    "## Dibujar puntos en coordenadas x e y\n",
    "[regresar al contenido](#c1)\n",
    "\n",
    "La función `plot()` se utiliza para dibujar puntos (marcadores) en un diagrama.\n",
    "\n",
    "De forma predeterminada, la función `plot()` dibuja una línea de punto a punto.\n",
    "\n",
    "La función toma parámetros para especificar los puntos en el diagrama.\n",
    "\n",
    "El parámetro 1 es un array que contiene los puntos en el eje x.\n",
    "\n",
    "El parámetro 2 es un array que contiene los puntos en el eje y.\n",
    "\n",
    "Si necesitamos trazar una línea desde (1, 3) hasta (8, 10), debemos pasar dos arrays [1, 8] y [3, 10] a la función plot."
   ]
  },
  {
   "cell_type": "code",
   "execution_count": 4,
   "id": "a7fb1469",
   "metadata": {},
   "outputs": [
    {
     "data": {
      "image/png": "[encoded data removed]",
      "text/plain": [
       "<Figure size 432x288 with 1 Axes>"
      ]
     },
     "metadata": {
      "needs_background": "light"
     },
     "output_type": "display_data"
    }
   ],
   "source": [
    "import matplotlib.pyplot as plt\n",
    "import numpy as np\n",
    "\n",
    "xpoints = np.array([1, 8])\n",
    "ypoints = np.array([3, 10])\n",
    "\n",
    "plt.plot(xpoints, ypoints)\n",
    "plt.show()"
   ]
  },
  {
   "cell_type": "markdown",
   "id": "404c4858",
   "metadata": {},
   "source": [
    "<a name='2-2'></a>\n",
    "\n",
    "## Dibujar puntos sin linea\n",
    "[regresar al contenido](#c1)\n",
    "\n",
    "Para trazar solo los marcadores en un gráfico, puedes utilizar la notación de cadena abreviada `'o'`, que representa 'anillos'. Esto significa que solo se mostrarán los marcadores en lugar de una línea que los conecte"
   ]
  },
  {
   "cell_type": "code",
   "execution_count": 5,
   "id": "fe1699a4",
   "metadata": {},
   "outputs": [
    {
     "data": {
      "image/png": "[encoded data removed]",
      "text/plain": [
       "<Figure size 432x288 with 1 Axes>"
      ]
     },
     "metadata": {
      "needs_background": "light"
     },
     "output_type": "display_data"
    }
   ],
   "source": [
    "import matplotlib.pyplot as plt\n",
    "import numpy as np\n",
    "\n",
    "xpoints = np.array([1, 8])\n",
    "ypoints = np.array([3, 10])\n",
    "\n",
    "plt.plot(xpoints, ypoints, 'o')\n",
    "plt.show()"
   ]
  },
  {
   "cell_type": "markdown",
   "id": "35e019d4",
   "metadata": {},
   "source": [
    "<a name='2-3'></a>\n",
    "\n",
    "## Dibujar múltiples puntos\n",
    "[regresar al contenido](#c1)\n",
    "\n",
    "Puedes trazar tantos puntos como desees, solo asegúrate de tener el mismo número de puntos en ambos ejes."
   ]
  },
  {
   "cell_type": "code",
   "execution_count": 6,
   "id": "374d7927",
   "metadata": {},
   "outputs": [
    {
     "data": {
      "image/png": "[encoded data removed]",
      "text/plain": [
       "<Figure size 432x288 with 1 Axes>"
      ]
     },
     "metadata": {
      "needs_background": "light"
     },
     "output_type": "display_data"
    }
   ],
   "source": [
    "import matplotlib.pyplot as plt\n",
    "import numpy as np\n",
    "\n",
    "xpoints = np.array([1, 2, 6, 8])\n",
    "ypoints = np.array([3, 8, 1, 10])\n",
    "\n",
    "plt.plot(xpoints, ypoints,'o')\n",
    "plt.show()"
   ]
  },
  {
   "cell_type": "markdown",
   "id": "52fc994d",
   "metadata": {},
   "source": [
    "<a name='2-4'></a>\n",
    "\n",
    "## Puntos default\n",
    "[regresar al contenido](#c1)\n",
    "\n",
    "Si no especificamos los puntos en el eje x, obtendrán los valores predeterminados 0, 1, 2, 3, etc., según la longitud de los puntos en el eje y."
   ]
  },
  {
   "cell_type": "code",
   "execution_count": 20,
   "id": "eac0b498",
   "metadata": {},
   "outputs": [
    {
     "name": "stdout",
     "output_type": "stream",
     "text": [
      "[[[1 2 3]\n",
      "  [4 5 6]]\n",
      "\n",
      " [[1 2 3]\n",
      "  [4 5 6]]]\n"
     ]
    }
   ],
   "source": [
    "import matplotlib.pyplot as plt\n",
    "import numpy as np\n",
    "\n",
    "ypoints = np.array([3, 8, 1, 10, 5, 7])\n",
    "\n",
    "plt.plot(ypoints,'o')\n",
    "plt.show()"
   ]
  },
  {
   "cell_type": "markdown",
   "id": "334a05cf",
   "metadata": {},
   "source": [
    "<a name='3'></a>\n",
    "\n",
    "# Marcadores\n",
    "[regresar al contenido](#c1)\n",
    "\n",
    "Puedes utilizar el argumento de palabra clave \"marker\" para resaltar cada punto con un marcador específico. Esto te permite personalizar la apariencia de los puntos en el gráfico, utilizando diferentes marcadores como círculos, cruces, triángulos, etc."
   ]
  },
  {
   "cell_type": "code",
   "execution_count": 9,
   "id": "b7f3871c",
   "metadata": {},
   "outputs": [
    {
     "data": {
      "image/png": "[encoded data removed]",
      "text/plain": [
       "<Figure size 432x288 with 1 Axes>"
      ]
     },
     "metadata": {
      "needs_background": "light"
     },
     "output_type": "display_data"
    }
   ],
   "source": [
    "import matplotlib.pyplot as plt\n",
    "import numpy as np\n",
    "\n",
    "ypoints = np.array([3, 8, 1, 10])\n",
    "\n",
    "plt.plot(ypoints, marker = 'o')\n",
    "plt.show()"
   ]
  },
  {
   "cell_type": "code",
   "execution_count": 10,
   "id": "14352986",
   "metadata": {},
   "outputs": [
    {
     "data": {
      "image/png": "[encoded data removed]",
      "text/plain": [
       "<Figure size 432x288 with 1 Axes>"
      ]
     },
     "metadata": {
      "needs_background": "light"
     },
     "output_type": "display_data"
    }
   ],
   "source": [
    "import matplotlib.pyplot as plt\n",
    "import numpy as np\n",
    "\n",
    "ypoints = np.array([3, 8, 1, 10])\n",
    "\n",
    "plt.plot(ypoints, marker = '*')\n",
    "plt.show()"
   ]
  },
  {
   "cell_type": "markdown",
   "id": "871a1629",
   "metadata": {},
   "source": [
    "<a name='3-1'></a>\n",
    "\n",
    "## Marcadores de referencia\n",
    "[regresar al contenido](#c1)\n",
    "\n",
    "Estos son algunos de los marcadores que puedes utilizar con el argumento de palabra clave \"marker\" en Matplotlib para resaltar puntos en un gráfico:\n",
    "\n",
    "- `'o'`: `` Círculo``\n",
    "- `'*'`: `` Estrella`` \n",
    "- `'.'`: `` Punto`` \n",
    "- `','`: `` Píxel`` \n",
    "- `'x'`: `` X`` \n",
    "- `'X'`: `` X (relleno)`` \n",
    "- `'+'`: `` Más`` \n",
    "- `'P'`: `` Más (relleno)`` \n",
    "- `'s'`: `` Cuadrado`` \n",
    "- `'D'`: `` Diamante`` \n",
    "- `'d'`: `` Diamante (delgado)`` \n",
    "- `'p'`: `` Pentágono`` \n",
    "- `'H'`: `` Hexágono`` \n",
    "- `'h'`: `` Hexágono`` \n",
    "- `'v'`: `` Triángulo hacia abajo`` \n",
    "- `'^'`: `` Triángulo hacia arriba`` \n",
    "- `'<'`: `` Triángulo hacia la izquierda`` \n",
    "- `'>'`: `` Triángulo hacia la derecha`` \n",
    "- `'1'`: `` Triángulo hacia abajo`` \n",
    "- `'2'`: `` Triángulo hacia arriba`` \n",
    "- `'3'`: `` Triángulo hacia la izquierda`` \n",
    "- `'4'`: `` Triángulo hacia la derecha`` \n",
    "- `'|'`: `` Línea vertical`` \n",
    "- `'_'`: `` Línea horizontal`` \n"
   ]
  },
  {
   "cell_type": "markdown",
   "id": "2c068b12",
   "metadata": {},
   "source": [
    "<a name='3-2'></a>\n",
    "\n",
    "## Formato Strings fmt\n",
    "[regresar al contenido](#c1)\n",
    "\n",
    "También puedes utilizar la notación de cadena abreviada para especificar el marcador. Este parámetro también se llama \"fmt\" y se escribe con la siguiente sintaxis:\n",
    "\n",
    "marcador|línea|color"
   ]
  },
  {
   "cell_type": "code",
   "execution_count": 25,
   "id": "022ca5d5",
   "metadata": {},
   "outputs": [
    {
     "name": "stdout",
     "output_type": "stream",
     "text": [
      "2do elemento de la 1er Fila:  2\n"
     ]
    }
   ],
   "source": [
    "arr = np.array([[1,2,3,4,5], [6,7,8,9,10]])\n",
    "\n",
    "print('2do elemento de la 1er Fila: ', arr[0, 1])"
   ]
  },
  {
   "cell_type": "code",
   "execution_count": 26,
   "id": "d5da39b6",
   "metadata": {},
   "outputs": [
    {
     "name": "stdout",
     "output_type": "stream",
     "text": [
      "Quinto elemento de la 2da Fila 10\n"
     ]
    }
   ],
   "source": [
    "print('Quinto elemento de la 2da Fila', arr[1, 4])"
   ]
  },
  {
   "cell_type": "markdown",
   "id": "fab1a880",
   "metadata": {},
   "source": [
    "<a name='3-3'></a>\n",
    "\n",
    "## Arreglos 3-D\n",
    "[regresar al contenido](#c1)\n",
    "\n",
    "Para acceder a elementos de arrays 3-D, podemos usar enteros separados por comas que representan las dimensiones y el índice del elemento. Esto implica especificar la coordenada en cada dimensión para llegar al elemento deseado en el array tridimensional."
   ]
  },
  {
   "cell_type": "code",
   "execution_count": 16,
   "id": "5a5cf294",
   "metadata": {},
   "outputs": [
    {
     "name": "stdout",
     "output_type": "stream",
     "text": [
      "6\n"
     ]
    }
   ],
   "source": [
    "arr = np.array([[[1, 2, 3], [4, 5, 6]], [[7, 8, 9], [10, 11, 12]]])\n",
    "\n",
    "print(arr[0, 1, 2])"
   ]
  },
  {
   "cell_type": "markdown",
   "id": "8f298f2e",
   "metadata": {},
   "source": [
    "<a name='4'></a>\n",
    "\n",
    "# Slicing\n",
    "[regresar al contenido](#c1)\n",
    "\n",
    "El slicing en Python significa tomar elementos desde un índice dado hasta otro índice dado.\n",
    "\n",
    "Pasamos el slice en lugar del índice de esta manera: `[inicio:fin]`.\n",
    "\n",
    "También podemos definir el paso, de esta manera: `[inicio:fin:paso]`.\n",
    "\n",
    "- Si no especificamos el inicio, se considera 0.\n",
    "- Si no especificamos el fin, se considera la longitud del array en esa dimensión.\n",
    "- Si no especificamos el paso, se considera 1."
   ]
  },
  {
   "cell_type": "markdown",
   "id": "e42a3bc8",
   "metadata": {},
   "source": [
    "<a name='4-1'></a>\n",
    "\n",
    "## Arreglos 1-D\n",
    "[regresar al contenido](#c1)"
   ]
  },
  {
   "cell_type": "code",
   "execution_count": 28,
   "id": "d67dccf1",
   "metadata": {},
   "outputs": [
    {
     "name": "stdout",
     "output_type": "stream",
     "text": [
      "[2 3 4 5]\n"
     ]
    }
   ],
   "source": [
    "arr = np.array([1, 2, 3, 4, 5, 6, 7])\n",
    "\n",
    "print(arr[1:5])"
   ]
  },
  {
   "cell_type": "code",
   "execution_count": 29,
   "id": "28293789",
   "metadata": {},
   "outputs": [
    {
     "name": "stdout",
     "output_type": "stream",
     "text": [
      "[5 6 7]\n"
     ]
    }
   ],
   "source": [
    "print(arr[4:])"
   ]
  },
  {
   "cell_type": "code",
   "execution_count": 30,
   "id": "cc141216",
   "metadata": {},
   "outputs": [
    {
     "name": "stdout",
     "output_type": "stream",
     "text": [
      "[1 2 3 4]\n"
     ]
    }
   ],
   "source": [
    "print(arr[:4])"
   ]
  },
  {
   "cell_type": "code",
   "execution_count": 31,
   "id": "61601d55",
   "metadata": {},
   "outputs": [
    {
     "name": "stdout",
     "output_type": "stream",
     "text": [
      "[5 6]\n"
     ]
    }
   ],
   "source": [
    "print(arr[-3:-1])"
   ]
  },
  {
   "cell_type": "markdown",
   "id": "7ab644fb",
   "metadata": {},
   "source": [
    "<a name='4-1-1'></a>\n",
    "\n",
    "### Paso\n",
    "[regresar al contenido](#c1)\n",
    "\n",
    "> `arreglo[inicio:fin:paso]`"
   ]
  },
  {
   "cell_type": "code",
   "execution_count": 32,
   "id": "c679f34b",
   "metadata": {},
   "outputs": [
    {
     "name": "stdout",
     "output_type": "stream",
     "text": [
      "[2 4]\n"
     ]
    }
   ],
   "source": [
    "arr = np.array([1, 2, 3, 4, 5, 6, 7])\n",
    "\n",
    "print(arr[1:5:2])"
   ]
  },
  {
   "cell_type": "code",
   "execution_count": 33,
   "id": "8382b8ab",
   "metadata": {},
   "outputs": [
    {
     "name": "stdout",
     "output_type": "stream",
     "text": [
      "[1 3 5 7]\n"
     ]
    }
   ],
   "source": [
    "arr = np.array([1, 2, 3, 4, 5, 6, 7])\n",
    "\n",
    "print(arr[::2])"
   ]
  },
  {
   "cell_type": "markdown",
   "id": "014d2c2f",
   "metadata": {},
   "source": [
    "<a name='4-2'></a>\n",
    "\n",
    "## Arreglos 2-D\n",
    "[regresar al contenido](#c1)"
   ]
  },
  {
   "cell_type": "code",
   "execution_count": 34,
   "id": "d69fb410",
   "metadata": {},
   "outputs": [
    {
     "name": "stdout",
     "output_type": "stream",
     "text": [
      "[7 8 9]\n"
     ]
    }
   ],
   "source": [
    "arr = np.array([[1, 2, 3, 4, 5], [6, 7, 8, 9, 10]])\n",
    "\n",
    "print(arr[1, 1:4])"
   ]
  },
  {
   "cell_type": "code",
   "execution_count": 35,
   "id": "73f603db",
   "metadata": {},
   "outputs": [
    {
     "name": "stdout",
     "output_type": "stream",
     "text": [
      "[3 8]\n"
     ]
    }
   ],
   "source": [
    "arr = np.array([[1, 2, 3, 4, 5], [6, 7, 8, 9, 10]])\n",
    "\n",
    "print(arr[0:2, 2])"
   ]
  },
  {
   "cell_type": "code",
   "execution_count": 36,
   "id": "f059a5a0",
   "metadata": {},
   "outputs": [
    {
     "name": "stdout",
     "output_type": "stream",
     "text": [
      "[[2 3 4]\n",
      " [7 8 9]]\n"
     ]
    }
   ],
   "source": [
    "arr = np.array([[1, 2, 3, 4, 5], [6, 7, 8, 9, 10]])\n",
    "\n",
    "print(arr[0:2, 1:4])"
   ]
  },
  {
   "cell_type": "markdown",
   "id": "202b7434",
   "metadata": {},
   "source": [
    "<a name='5'></a>\n",
    "\n",
    "# Buscando en arreglos\n",
    "[regresar al contenido](#c1)\n",
    "\n",
    "Puedes buscar un valor específico en un array y obtener los índices que coinciden con ese valor.\n",
    "\n",
    "Para buscar en un array, utiliza el método `where()`. El método `where()` de NumPy te permite buscar elementos que cumplan con ciertas condiciones y devuelve los índices donde se encuentran esos elementos."
   ]
  },
  {
   "cell_type": "code",
   "execution_count": 37,
   "id": "1ea1a138",
   "metadata": {},
   "outputs": [
    {
     "name": "stdout",
     "output_type": "stream",
     "text": [
      "(array([3, 5, 6], dtype=int64),)\n"
     ]
    }
   ],
   "source": [
    "arr = np.array([1, 2, 3, 4, 5, 4, 4])\n",
    "\n",
    "x = np.where(arr == 4)\n",
    "\n",
    "print(x)"
   ]
  },
  {
   "cell_type": "code",
   "execution_count": 38,
   "id": "fc453229",
   "metadata": {},
   "outputs": [
    {
     "name": "stdout",
     "output_type": "stream",
     "text": [
      "(array([1, 3, 5, 7], dtype=int64),)\n"
     ]
    }
   ],
   "source": [
    "arr = np.array([1, 2, 3, 4, 5, 6, 7, 8])\n",
    "\n",
    "x = np.where(arr%2 == 0)\n",
    "\n",
    "print(x)"
   ]
  },
  {
   "cell_type": "markdown",
   "id": "872ad064",
   "metadata": {},
   "source": [
    "Existe un método llamado `searchsorted()` que realiza una búsqueda binaria en el array y devuelve el índice donde se insertaría el valor especificado para mantener el orden de búsqueda.\n",
    "\n",
    "Se asume que el método `searchsorted()` se utiliza en arrays ordenados, ya que se basa en la búsqueda binaria, que funciona eficientemente en datos ordenados."
   ]
  },
  {
   "cell_type": "code",
   "execution_count": 39,
   "id": "d6435014",
   "metadata": {},
   "outputs": [
    {
     "name": "stdout",
     "output_type": "stream",
     "text": [
      "1\n"
     ]
    }
   ],
   "source": [
    "arr = np.array([6, 7, 8, 9])\n",
    "\n",
    "x = np.searchsorted(arr, 7)\n",
    "\n",
    "print(x)"
   ]
  },
  {
   "cell_type": "markdown",
   "id": "9122d7de",
   "metadata": {},
   "source": [
    "De forma predeterminada, se devuelve el índice más a la izquierda al buscar un valor en un array, pero podemos especificar `side='right'` para obtener en su lugar el índice más a la derecha."
   ]
  },
  {
   "cell_type": "code",
   "execution_count": 40,
   "id": "80e59184",
   "metadata": {},
   "outputs": [
    {
     "name": "stdout",
     "output_type": "stream",
     "text": [
      "2\n"
     ]
    }
   ],
   "source": [
    "arr = np.array([6, 7, 8, 9])\n",
    "\n",
    "x = np.searchsorted(arr, 7, side='right')\n",
    "\n",
    "print(x)"
   ]
  },
  {
   "cell_type": "code",
   "execution_count": 41,
   "id": "46398bfb",
   "metadata": {},
   "outputs": [
    {
     "name": "stdout",
     "output_type": "stream",
     "text": [
      "[1 2 3]\n"
     ]
    }
   ],
   "source": [
    "arr = np.array([1, 3, 5, 7])\n",
    "\n",
    "x = np.searchsorted(arr, [2, 4, 6])\n",
    "\n",
    "print(x)"
   ]
  },
  {
   "cell_type": "markdown",
   "id": "1515cade",
   "metadata": {},
   "source": [
    "<a name='6'></a>\n",
    "\n",
    "# Filtrado\n",
    "[regresar al contenido](#c1)"
   ]
  },
  {
   "cell_type": "code",
   "execution_count": 42,
   "id": "5a5e4666",
   "metadata": {},
   "outputs": [
    {
     "name": "stdout",
     "output_type": "stream",
     "text": [
      "[False False  True  True]\n",
      "[43 44]\n"
     ]
    }
   ],
   "source": [
    "arr = np.array([41, 42, 43, 44])\n",
    "\n",
    "filter_arr = arr > 42\n",
    "\n",
    "newarr = arr[filter_arr]\n",
    "\n",
    "print(filter_arr)\n",
    "print(newarr)"
   ]
  },
  {
   "cell_type": "code",
   "execution_count": 43,
   "id": "c4c4b7a9",
   "metadata": {},
   "outputs": [
    {
     "name": "stdout",
     "output_type": "stream",
     "text": [
      "[False  True False  True False  True False]\n",
      "[2 4 6]\n"
     ]
    }
   ],
   "source": [
    "arr = np.array([1, 2, 3, 4, 5, 6, 7])\n",
    "\n",
    "filter_arr = arr % 2 == 0\n",
    "\n",
    "newarr = arr[filter_arr]\n",
    "\n",
    "print(filter_arr)\n",
    "print(newarr)"
   ]
  }
 ],
 "metadata": {
  "kernelspec": {
   "display_name": "Python 3 (ipykernel)",
   "language": "python",
   "name": "python3"
  },
  "language_info": {
   "codemirror_mode": {
    "name": "ipython",
    "version": 3
   },
   "file_extension": ".py",
   "mimetype": "text/x-python",
   "name": "python",
   "nbconvert_exporter": "python",
   "pygments_lexer": "ipython3",
   "version": "3.9.12"
  }
 },
 "nbformat": 4,
 "nbformat_minor": 5
}
