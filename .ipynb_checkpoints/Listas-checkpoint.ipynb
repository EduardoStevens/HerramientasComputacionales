{
 "cells": [
  {
   "cell_type": "markdown",
   "id": "cd233fac",
   "metadata": {
    "colab_type": "text",
    "id": "view-in-github"
   },
   "source": [
    "<a href=\"https://colab.research.google.com/github/seismomat/HerramientasComputacionales/blob/Ivan/Diccionarios.ipynb\" target=\"_parent\"><img src=\"https://colab.research.google.com/assets/colab-badge.svg\" alt=\"Open In Colab\"/></a>"
   ]
  },
  {
   "cell_type": "markdown",
   "id": "0598806e",
   "metadata": {},
   "source": [
    "<font color=\"Red\" face=\"Comic Sans MS,arial\">\n",
    "  <h1 align=\"center\"><i>Listas </i></h1>\n",
    "  </font>\n",
    "  \n",
    "> Elaborado por: Jesús Iván Coss Calderón. mat_ing_coss@ciencias.unam.mx"
   ]
  },
  {
   "cell_type": "markdown",
   "id": "892493c5",
   "metadata": {},
   "source": [
    "**Objetivo general**\n",
    "\n",
    "* Aprender los fundamentos de la estructura de datos conocida como listas\n",
    "\n",
    "**Objetivos particulares**\n",
    "\n",
    "* Entender los métodos de la clase list"
   ]
  },
  {
   "cell_type": "markdown",
   "id": "47c27379",
   "metadata": {},
   "source": [
    "[**Regresa al notebook principal**](https://github.com/seismomat/HerramientasComputacionales/blob/Ivan/Sintaxis%2Ccomentarios%2CTiposDeDatos.ipynb)"
   ]
  },
  {
   "cell_type": "markdown",
   "id": "bba08db4",
   "metadata": {},
   "source": [
    "<a name='c1'></a>\n",
    "\n",
    "## Contenido\n",
    "\n",
    "- [Listas](#1)\n",
    "    - [Declaración](#1-1)\n",
    "    - [Tipo de dato o clase](#1-2)\n",
    "    - [Modificar elementos de una lista](#1-3)\n",
    "    - [Borrar elementos de una lista](#1-4)\n",
    "    - [Método de acceso a elementos](#1-5)\n",
    "    - [Agregar elementos](#1-6)\n",
    "    - [Longitud de la lista](#1-7)\n",
    "- [Ejemplo](#2)\n",
    "- [Tipos de datos en un diccionario](#3)\n",
    "- [Pasar valores de una lista a un diccionario](#4)\n",
    "- [Utilidad de las listas](#5)"
   ]
  },
  {
   "cell_type": "markdown",
   "id": "fa9de960",
   "metadata": {
    "id": "fa9de960"
   },
   "source": [
    "<a name='1'></a>\n",
    "\n",
    "# Listas\n",
    "[regresar al contenido](#c1)\n",
    "\n",
    "\n",
    "En Python, las listas son estructuras de datos que te permiten almacenar y organizar múltiples elementos en un orden específico. Puedes agregar, eliminar y modificar elementos en una lista de manera flexible. Las listas son uno de los tipos de datos más utilizados y versátiles en Python\n"
   ]
  },
  {
   "cell_type": "markdown",
   "id": "2523b049",
   "metadata": {},
   "source": [
    "<a name='1-1'></a>\n",
    "\n",
    "# Declaración\n",
    "[regresar al contenido](#c1)\n",
    "\n",
    "La manera de declarar un diccionario es la siguiente"
   ]
  },
  {
   "cell_type": "code",
   "execution_count": 1,
   "id": "089653d8",
   "metadata": {
    "id": "089653d8",
    "outputId": "da1dcf0b-0fa6-43cf-bb26-f5decf2a54c6"
   },
   "outputs": [],
   "source": [
    "frutas = ['manzana', 'banana', 'naranja', 'kiwi']\n",
    "numeros = [1, 2, 3, 4, 5]\n",
    "mezclada = [1, 'dos', 3.0, True]"
   ]
  },
  {
   "cell_type": "markdown",
   "id": "bf21d662",
   "metadata": {},
   "source": [
    "<a name='1-2'></a>\n",
    "\n",
    "# Tipo de dato o clase\n",
    "[regresar al contenido](#c1)\n",
    "\n",
    "Cabe mencionar que la clase de dicha estructura es **dict**, como se observa a continuación"
   ]
  },
  {
   "cell_type": "code",
   "execution_count": 2,
   "id": "26528169",
   "metadata": {},
   "outputs": [
    {
     "name": "stdout",
     "output_type": "stream",
     "text": [
      "<class 'list'>\n"
     ]
    }
   ],
   "source": [
    "print(type(frutas))"
   ]
  },
  {
   "cell_type": "markdown",
   "id": "c654166f",
   "metadata": {},
   "source": [
    "<a name='1-3'></a>\n",
    "\n",
    "# Modificar elementos de una lista\n",
    "[regresar al contenido](#c1)\n",
    "\n",
    "Si desea modificar el valor de la lista en un índice específico se hace de la siguiente manera **lista[indice]=nuevo_valor**"
   ]
  },
  {
   "cell_type": "code",
   "execution_count": 6,
   "id": "d157b8aa",
   "metadata": {
    "id": "d157b8aa",
    "outputId": "b177d74c-3d58-445b-c910-91a068f03407"
   },
   "outputs": [
    {
     "name": "stdout",
     "output_type": "stream",
     "text": [
      "['manzana', 'pera', 'naranja', 'kiwi']\n"
     ]
    }
   ],
   "source": [
    "frutas[1] = 'pera'\n",
    "print(frutas)  # Imprime ['manzana', 'pera', 'naranja', 'kiwi']\n"
   ]
  },
  {
   "cell_type": "markdown",
   "id": "5cbba2cc",
   "metadata": {},
   "source": [
    "<a name='1-4'></a>\n",
    "\n",
    "# Borrar elementos de una lista\n",
    "[regresar al contenido](#c1)"
   ]
  },
  {
   "cell_type": "markdown",
   "id": "98b84393",
   "metadata": {},
   "source": [
    "Si desea borrar el valor de la lista en un índice específico se hace de la siguiente manera **lista.remove(valor)**"
   ]
  },
  {
   "cell_type": "code",
   "execution_count": 25,
   "id": "35a93859",
   "metadata": {
    "id": "35a93859",
    "outputId": "b3fa3d64-a887-48c8-ee81-51b2559e7761"
   },
   "outputs": [
    {
     "data": {
      "text/plain": [
       "dict_values(['Hamal', 2.0, 'K2III', 66])"
      ]
     },
     "execution_count": 25,
     "metadata": {},
     "output_type": "execute_result"
    }
   ],
   "source": [
    "frutas.remove('naranja')\n",
    "print(frutas)  # Imprime ['manzana', 'pera', 'kiwi', 'uva']"
   ]
  },
  {
   "cell_type": "markdown",
   "id": "26c3d282",
   "metadata": {},
   "source": [
    "<a name='1-5'></a>\n",
    "\n",
    "# Método de acceso a elementos\n",
    "[regresar al contenido](#c1)"
   ]
  },
  {
   "cell_type": "markdown",
   "id": "bac4feeb",
   "metadata": {},
   "source": [
    "La manera para visualizar un elemento específico de la lista es **nombre_lista [indice]**"
   ]
  },
  {
   "cell_type": "code",
   "execution_count": 4,
   "id": "a61f04bb",
   "metadata": {
    "id": "a61f04bb",
    "outputId": "b191b3dc-39f4-4725-a887-a7eca594d3c1"
   },
   "outputs": [
    {
     "name": "stdout",
     "output_type": "stream",
     "text": [
      "manzana\n"
     ]
    }
   ],
   "source": [
    "print(frutas[0])  # Imprime 'manzana'"
   ]
  },
  {
   "cell_type": "code",
   "execution_count": 5,
   "id": "b2850fab",
   "metadata": {},
   "outputs": [
    {
     "name": "stdout",
     "output_type": "stream",
     "text": [
      "3\n"
     ]
    }
   ],
   "source": [
    "print(numeros[2])  # Imprime 3"
   ]
  },
  {
   "cell_type": "markdown",
   "id": "470c9eb0",
   "metadata": {},
   "source": [
    "<a name='1-6'></a>\n",
    "\n",
    "# Agregar elementos\n",
    "[regresar al contenido](#c1)"
   ]
  },
  {
   "cell_type": "markdown",
   "id": "fbdb1ce0",
   "metadata": {},
   "source": [
    "Para agregar una nueva variable se realiza de la siguiente manera **nombre_lista.append(valor_nuevo)**"
   ]
  },
  {
   "cell_type": "code",
   "execution_count": 27,
   "id": "1d68d1e7",
   "metadata": {
    "id": "1d68d1e7",
    "outputId": "b08f7c58-91ef-443c-a955-e0b252e73340"
   },
   "outputs": [],
   "source": [
    "frutas.append('uva')"
   ]
  },
  {
   "cell_type": "markdown",
   "id": "2b2deb36",
   "metadata": {},
   "source": [
    "Imprimimos la lista para visualizar que se haya agregado el elemento nuevo. "
   ]
  },
  {
   "cell_type": "code",
   "execution_count": 3,
   "id": "90a99770",
   "metadata": {},
   "outputs": [
    {
     "name": "stdout",
     "output_type": "stream",
     "text": [
      "['manzana', 'banana', 'naranja', 'kiwi']\n"
     ]
    }
   ],
   "source": [
    "print(frutas)  # Imprime ['manzana', 'pera', 'naranja', 'kiwi', 'uva']"
   ]
  },
  {
   "cell_type": "markdown",
   "id": "90b5c193",
   "metadata": {
    "id": "90b5c193"
   },
   "source": [
    "La siguiente función es un ejemplo, en el cual se usa lo visto anteriormente de un lista y un diccionario, simplemente se extraen los valores del diccionario.\n"
   ]
  },
  {
   "cell_type": "markdown",
   "id": "b9aded12",
   "metadata": {},
   "source": [
    "<a name='1-7'></a>\n",
    "\n",
    "# Longitud de la lista\n",
    "[regresar al contenido](#c1)\n",
    "\n",
    "Para obtener de la longitud de la lista se hace con el método **len**"
   ]
  },
  {
   "cell_type": "code",
   "execution_count": 7,
   "id": "9ef38df9",
   "metadata": {},
   "outputs": [
    {
     "name": "stdout",
     "output_type": "stream",
     "text": [
      "4\n"
     ]
    }
   ],
   "source": [
    "print(len(frutas))  # Imprime 4"
   ]
  },
  {
   "cell_type": "markdown",
   "id": "44fbd2b3",
   "metadata": {},
   "source": [
    "<a name='2'></a>\n",
    "\n",
    "# Ejemplo\n",
    "[regresar al contenido](#c1)\n",
    "\n",
    "Se puede iterar sobre los elementos de la lista"
   ]
  },
  {
   "cell_type": "code",
   "execution_count": 9,
   "id": "c8237473",
   "metadata": {},
   "outputs": [
    {
     "name": "stdout",
     "output_type": "stream",
     "text": [
      "manzana\n",
      "pera\n",
      "naranja\n",
      "kiwi\n"
     ]
    }
   ],
   "source": [
    "for fruta in frutas:\n",
    "    print(fruta)"
   ]
  },
  {
   "cell_type": "markdown",
   "id": "98bfec92",
   "metadata": {},
   "source": [
    "También se puede utilizar la estructura de control if-elseif-else"
   ]
  },
  {
   "cell_type": "code",
   "execution_count": 10,
   "id": "83ad4cb5",
   "metadata": {},
   "outputs": [
    {
     "name": "stdout",
     "output_type": "stream",
     "text": [
      "Sí, la manzana está en la lista.\n"
     ]
    }
   ],
   "source": [
    "if 'manzana' in frutas:\n",
    "    print('Sí, la manzana está en la lista.')"
   ]
  },
  {
   "cell_type": "markdown",
   "id": "01d6e36c",
   "metadata": {},
   "source": [
    "<a name='3'></a>\n",
    "\n",
    "# Tipos de datos en un diccionario\n",
    "[regresar al contenido](#c1)\n",
    "\n",
    "En una lista se pueden guardar todo tipo de variables y tipos de datos."
   ]
  },
  {
   "cell_type": "code",
   "execution_count": 12,
   "id": "e1d2a9fb",
   "metadata": {},
   "outputs": [],
   "source": [
    "thislist = [\n",
    "  \"brand\", \"Ford\",\n",
    "  \"electric\", False,\n",
    "  \"year\", 1964,\n",
    "  \"colors\", [\"red\", \"white\", \"blue\"] ]"
   ]
  },
  {
   "cell_type": "code",
   "execution_count": 13,
   "id": "8626a887",
   "metadata": {},
   "outputs": [
    {
     "data": {
      "text/plain": [
       "['brand',\n",
       " 'Ford',\n",
       " 'electric',\n",
       " False,\n",
       " 'year',\n",
       " 1964,\n",
       " 'colors',\n",
       " ['red', 'white', 'blue']]"
      ]
     },
     "execution_count": 13,
     "metadata": {},
     "output_type": "execute_result"
    }
   ],
   "source": [
    "thislist"
   ]
  },
  {
   "cell_type": "markdown",
   "id": "68917abf",
   "metadata": {},
   "source": [
    "<a name='4'></a>\n",
    "\n",
    "# Pasar valores de una lista a un diccionario\n",
    "[regresar al contenido](#c1)"
   ]
  },
  {
   "cell_type": "code",
   "execution_count": 31,
   "id": "8eab08a3",
   "metadata": {
    "id": "8eab08a3"
   },
   "outputs": [
    {
     "name": "stdout",
     "output_type": "stream",
     "text": [
      "[2.7, 2.13, 5.7]\n"
     ]
    }
   ],
   "source": [
    "# Lista de elementos\n",
    "elementos_lista = [\"manzana\", \"banana\", \"naranja\", \"uva\"]\n",
    "\n",
    "# Crear un diccionario vacío\n",
    "diccionario = {}\n",
    "\n",
    "# Llenar el diccionario con elementos de la lista como claves y sus longitudes como valores\n",
    "for elemento in elementos_lista:\n",
    "    diccionario[elemento] = len(elemento)\n",
    "\n",
    "# Mostrar el diccionario resultante\n",
    "print(diccionario)\n"
   ]
  },
  {
   "cell_type": "markdown",
   "id": "06c413ef",
   "metadata": {},
   "source": [
    "<a name='5'></a>\n",
    "\n",
    "# Utilidad de las listas\n",
    "[regresar al contenido](#c1)"
   ]
  },
  {
   "cell_type": "code",
   "execution_count": 14,
   "id": "2c99d518",
   "metadata": {},
   "outputs": [
    {
     "name": "stdout",
     "output_type": "stream",
     "text": [
      "Tareas pendientes:\n",
      "- Comprar víveres\n",
      "- Hacer ejercicio\n",
      "- Leer un libro\n",
      "Tarea completada: Comprar víveres\n",
      "Tareas pendientes restantes:\n",
      "- Hacer ejercicio\n",
      "- Leer un libro\n"
     ]
    }
   ],
   "source": [
    "# Crear una lista de tareas pendientes\n",
    "tareas_pendientes = []\n",
    "\n",
    "# Agregar tareas a la lista\n",
    "tareas_pendientes.append(\"Comprar víveres\")\n",
    "tareas_pendientes.append(\"Hacer ejercicio\")\n",
    "tareas_pendientes.append(\"Leer un libro\")\n",
    "\n",
    "# Mostrar las tareas pendientes\n",
    "print(\"Tareas pendientes:\")\n",
    "for tarea in tareas_pendientes:\n",
    "    print(\"- \" + tarea)\n",
    "\n",
    "# Marcar una tarea como completada\n",
    "tarea_completada = tareas_pendientes.pop(0)\n",
    "print(\"Tarea completada: \" + tarea_completada)\n",
    "\n",
    "# Mostrar las tareas pendientes actualizadas\n",
    "print(\"Tareas pendientes restantes:\")\n",
    "for tarea in tareas_pendientes:\n",
    "    print(\"- \" + tarea)\n"
   ]
  }
 ],
 "metadata": {
  "colab": {
   "include_colab_link": true,
   "provenance": []
  },
  "kernelspec": {
   "display_name": "Python 3 (ipykernel)",
   "language": "python",
   "name": "python3"
  },
  "language_info": {
   "codemirror_mode": {
    "name": "ipython",
    "version": 3
   },
   "file_extension": ".py",
   "mimetype": "text/x-python",
   "name": "python",
   "nbconvert_exporter": "python",
   "pygments_lexer": "ipython3",
   "version": "3.9.12"
  }
 },
 "nbformat": 4,
 "nbformat_minor": 5
}
